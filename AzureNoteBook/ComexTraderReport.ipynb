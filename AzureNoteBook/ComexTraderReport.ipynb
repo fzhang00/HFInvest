{
    "metadata": {
        "kernelspec": {
            "name": "SQL",
            "display_name": "SQL",
            "language": "sql"
        },
        "language_info": {
            "name": "sql",
            "version": ""
        }
    },
    "nbformat_minor": 2,
    "nbformat": 4,
    "cells": [
        {
            "cell_type": "markdown",
            "source": [
                "# S&P Option Open Interest"
            ],
            "metadata": {
                "azdata_cell_guid": "c18dc7b0-f601-4d9b-be7f-577caed36665"
            }
        },
        {
            "cell_type": "code",
            "source": [
                "-- select Date, (trim(Name)+'.'+Type) as Name, OpenInterest from COMEX_Daily_Volume_OpenInterest_Equity where Name like '%S&P%500 Options' and trim(type) in ('Calls', 'Puts')\r\n",
                "select DATE, [E-mini S&P 500 Options.Calls], [E-mini S&P 500 Options.Puts], [S&P 500 Options.Calls], [S&P 500 Options.Puts]from \r\n",
                "    (\r\n",
                "        select Date, (trim(Name)+'.'+trim(Type)) as Name, OpenInterest from COMEX_Daily_Volume_OpenInterest_Equity where Name like '%S&P%500 Options' and trim(type) in ('Calls', 'Puts')\r\n",
                "    ) T\r\n",
                "    PIVOT \r\n",
                "    (\r\n",
                "        AVG(OpenInterest)\r\n",
                "        for Name in ([E-mini S&P 500 Options.Calls], [E-mini S&P 500 Options.Puts], [S&P 500 Options.Calls], [S&P 500 Options.Puts])\r\n",
                "    ) as pvt"
            ],
            "metadata": {
                "azdata_cell_guid": "729bd106-300d-40a9-8526-ee5850bb4c52",
                "tags": [
                    "hide_input"
                ]
            },
            "outputs": [
                {
                    "output_type": "display_data",
                    "data": {
                        "text/html": "(59 rows affected)"
                    },
                    "metadata": {}
                },
                {
                    "output_type": "display_data",
                    "data": {
                        "text/html": "Total execution time: 00:00:00.098"
                    },
                    "metadata": {}
                },
                {
                    "output_type": "execute_result",
                    "metadata": {
                        "azdata_chartOptions": {
                            "type": "line",
                            "dataDirection": "vertical",
                            "columnsAsLabels": true,
                            "labelFirstColumn": false,
                            "legendPosition": "top",
                            "dataType": "number"
                        }
                    },
                    "execution_count": 1,
                    "data": {
                        "application/vnd.dataresource+json": {
                            "schema": {
                                "fields": [
                                    {
                                        "name": "DATE"
                                    },
                                    {
                                        "name": "E-mini S&amp;P 500 Options.Calls"
                                    },
                                    {
                                        "name": "E-mini S&amp;P 500 Options.Puts"
                                    },
                                    {
                                        "name": "S&amp;P 500 Options.Calls"
                                    },
                                    {
                                        "name": "S&amp;P 500 Options.Puts"
                                    }
                                ]
                            },
                            "data": [
                                {
                                    "0": "2021-05-03 00:00:00",
                                    "1": "357625",
                                    "2": "802223",
                                    "3": "3800",
                                    "4": "5881"
                                },
                                {
                                    "0": "2021-05-04 00:00:00",
                                    "1": "364186",
                                    "2": "812532",
                                    "3": "3800",
                                    "4": "5881"
                                },
                                {
                                    "0": "2021-05-05 00:00:00",
                                    "1": "367268",
                                    "2": "825685",
                                    "3": "3800",
                                    "4": "5881"
                                },
                                {
                                    "0": "2021-05-06 00:00:00",
                                    "1": "370681",
                                    "2": "832834",
                                    "3": "3800",
                                    "4": "5831"
                                },
                                {
                                    "0": "2021-05-07 00:00:00",
                                    "1": "379461",
                                    "2": "848933",
                                    "3": "3800",
                                    "4": "5831"
                                },
                                {
                                    "0": "2021-05-10 00:00:00",
                                    "1": "386800",
                                    "2": "865134",
                                    "3": "3200",
                                    "4": "5831"
                                },
                                {
                                    "0": "2021-05-11 00:00:00",
                                    "1": "393936",
                                    "2": "895099",
                                    "3": "3200",
                                    "4": "5931"
                                },
                                {
                                    "0": "2021-05-12 00:00:00",
                                    "1": "401538",
                                    "2": "921431",
                                    "3": "3250",
                                    "4": "6131"
                                },
                                {
                                    "0": "2021-05-13 00:00:00",
                                    "1": "410596",
                                    "2": "939069",
                                    "3": "3250",
                                    "4": "6481"
                                },
                                {
                                    "0": "2021-05-14 00:00:00",
                                    "1": "415004",
                                    "2": "952599",
                                    "3": "3300",
                                    "4": "6581"
                                },
                                {
                                    "0": "2021-05-17 00:00:00",
                                    "1": "421267",
                                    "2": "966184",
                                    "3": "3550",
                                    "4": "6681"
                                },
                                {
                                    "0": "2021-05-18 00:00:00",
                                    "1": "426821",
                                    "2": "972965",
                                    "3": "3550",
                                    "4": "6681"
                                },
                                {
                                    "0": "2021-05-19 00:00:00",
                                    "1": "439816",
                                    "2": "990480",
                                    "3": "3550",
                                    "4": "6681"
                                },
                                {
                                    "0": "2021-05-20 00:00:00",
                                    "1": "443243",
                                    "2": "993495",
                                    "3": "3600",
                                    "4": "6731"
                                },
                                {
                                    "0": "2021-05-21 00:00:00",
                                    "1": "445860",
                                    "2": "996255",
                                    "3": "3600",
                                    "4": "6731"
                                },
                                {
                                    "0": "2021-05-24 00:00:00",
                                    "1": "450800",
                                    "2": "999024",
                                    "3": "3950",
                                    "4": "6731"
                                },
                                {
                                    "0": "2021-05-25 00:00:00",
                                    "1": "454822",
                                    "2": "1008662",
                                    "3": "3950",
                                    "4": "8765"
                                },
                                {
                                    "0": "2021-05-26 00:00:00",
                                    "1": "436640",
                                    "2": "977502",
                                    "3": "3952",
                                    "4": "10278"
                                },
                                {
                                    "0": "2021-05-27 00:00:00",
                                    "1": "442057",
                                    "2": "978681",
                                    "3": "3952",
                                    "4": "10378"
                                },
                                {
                                    "0": "2021-05-28 00:00:00",
                                    "1": "443903",
                                    "2": "981016",
                                    "3": "3952",
                                    "4": "13485"
                                },
                                {
                                    "0": "2021-06-01 00:00:00",
                                    "1": "441281",
                                    "2": "1002481",
                                    "3": "3952",
                                    "4": "13485"
                                },
                                {
                                    "0": "2021-06-02 00:00:00",
                                    "1": "444182",
                                    "2": "1011876",
                                    "3": "3952",
                                    "4": "13485"
                                },
                                {
                                    "0": "2021-06-03 00:00:00",
                                    "1": "447309",
                                    "2": "1030785",
                                    "3": "3952",
                                    "4": "13535"
                                },
                                {
                                    "0": "2021-06-04 00:00:00",
                                    "1": "449199",
                                    "2": "1050515",
                                    "3": "4152",
                                    "4": "15529"
                                },
                                {
                                    "0": "2021-06-07 00:00:00",
                                    "1": "447332",
                                    "2": "1059546",
                                    "3": "4152",
                                    "4": "15529"
                                },
                                {
                                    "0": "2021-06-08 00:00:00",
                                    "1": "449505",
                                    "2": "1079150",
                                    "3": "4152",
                                    "4": "15529"
                                },
                                {
                                    "0": "2021-06-09 00:00:00",
                                    "1": "454784",
                                    "2": "1095301",
                                    "3": "4152",
                                    "4": "15529"
                                },
                                {
                                    "0": "2021-06-10 00:00:00",
                                    "1": "456740",
                                    "2": "1110664",
                                    "3": "4352",
                                    "4": "17601"
                                },
                                {
                                    "0": "2021-06-11 00:00:00",
                                    "1": "463475",
                                    "2": "1152274",
                                    "3": "6281",
                                    "4": "22079"
                                },
                                {
                                    "0": "2021-06-14 00:00:00",
                                    "1": "472891",
                                    "2": "1197252",
                                    "3": "7916",
                                    "4": "22379"
                                },
                                {
                                    "0": "2021-06-15 00:00:00",
                                    "1": "480539",
                                    "2": "1219865",
                                    "3": "7916",
                                    "4": "23769"
                                },
                                {
                                    "0": "2021-06-16 00:00:00",
                                    "1": "495254",
                                    "2": "1381282",
                                    "3": "8016",
                                    "4": "33911"
                                },
                                {
                                    "0": "2021-06-17 00:00:00",
                                    "1": "510580",
                                    "2": "1432723",
                                    "3": "9971",
                                    "4": "35531"
                                },
                                {
                                    "0": "2021-06-18 00:00:00",
                                    "1": "222921",
                                    "2": "574668",
                                    "3": "3100",
                                    "4": "4550"
                                },
                                {
                                    "0": "2021-06-21 00:00:00",
                                    "1": "225653",
                                    "2": "692964",
                                    "3": "4350",
                                    "4": "5450"
                                },
                                {
                                    "0": "2021-06-22 00:00:00",
                                    "1": "226307",
                                    "2": "708476",
                                    "3": "4450",
                                    "4": "5450"
                                },
                                {
                                    "0": "2021-06-23 00:00:00",
                                    "1": "230548",
                                    "2": "719240",
                                    "3": "4450",
                                    "4": "5450"
                                },
                                {
                                    "0": "2021-06-24 00:00:00",
                                    "1": "235870",
                                    "2": "734775",
                                    "3": "4450",
                                    "4": "5450"
                                },
                                {
                                    "0": "2021-06-25 00:00:00",
                                    "1": "239559",
                                    "2": "739151",
                                    "3": "4450",
                                    "4": "5450"
                                },
                                {
                                    "0": "2021-06-28 00:00:00",
                                    "1": "242626",
                                    "2": "742730",
                                    "3": "4450",
                                    "4": "5450"
                                },
                                {
                                    "0": "2021-06-29 00:00:00",
                                    "1": "245655",
                                    "2": "750332",
                                    "3": "4450",
                                    "4": "5450"
                                },
                                {
                                    "0": "2021-06-30 00:00:00",
                                    "1": "252126",
                                    "2": "760127",
                                    "3": "4450",
                                    "4": "5450"
                                },
                                {
                                    "0": "2021-07-02 00:00:00",
                                    "1": "261968",
                                    "2": "789159",
                                    "3": "4800",
                                    "4": "5450"
                                },
                                {
                                    "0": "2021-07-06 00:00:00",
                                    "1": "265671",
                                    "2": "802456",
                                    "3": "6400",
                                    "4": "5850"
                                },
                                {
                                    "0": "2021-07-08 00:00:00",
                                    "1": "270916",
                                    "2": "821815",
                                    "3": "6750",
                                    "4": "6750"
                                },
                                {
                                    "0": "2021-07-12 00:00:00",
                                    "1": "278756",
                                    "2": "857623",
                                    "3": "7050",
                                    "4": "6750"
                                },
                                {
                                    "0": "2021-07-14 00:00:00",
                                    "1": "287716",
                                    "2": "869947",
                                    "3": "7050",
                                    "4": "6750"
                                },
                                {
                                    "0": "2021-07-15 00:00:00",
                                    "1": "291877",
                                    "2": "877179",
                                    "3": "7050",
                                    "4": "6750"
                                },
                                {
                                    "0": "2021-07-16 00:00:00",
                                    "1": "294859",
                                    "2": "888145",
                                    "3": "7050",
                                    "4": "6750"
                                },
                                {
                                    "0": "2021-07-19 00:00:00",
                                    "1": "311466",
                                    "2": "948032",
                                    "3": "7050",
                                    "4": "7350"
                                },
                                {
                                    "0": "2021-07-20 00:00:00",
                                    "1": "316226",
                                    "2": "958077",
                                    "3": "7050",
                                    "4": "7350"
                                },
                                {
                                    "0": "2021-07-21 00:00:00",
                                    "1": "319771",
                                    "2": "964842",
                                    "3": "7050",
                                    "4": "7350"
                                },
                                {
                                    "0": "2021-07-22 00:00:00",
                                    "1": "322622",
                                    "2": "971996",
                                    "3": "7050",
                                    "4": "7350"
                                },
                                {
                                    "0": "2021-07-23 00:00:00",
                                    "1": "326027",
                                    "2": "978921",
                                    "3": "7250",
                                    "4": "7350"
                                },
                                {
                                    "0": "2021-07-27 00:00:00",
                                    "1": "334977",
                                    "2": "999476",
                                    "3": "7300",
                                    "4": "7400"
                                },
                                {
                                    "0": "2021-07-28 00:00:00",
                                    "1": "336967",
                                    "2": "1010074",
                                    "3": "7300",
                                    "4": "7400"
                                },
                                {
                                    "0": "2021-07-29 00:00:00",
                                    "1": "338745",
                                    "2": "1017426",
                                    "3": "7300",
                                    "4": "7400"
                                },
                                {
                                    "0": "2021-07-30 00:00:00",
                                    "1": "342089",
                                    "2": "1029872",
                                    "3": "7300",
                                    "4": "7400"
                                },
                                {
                                    "0": "2021-08-02 00:00:00",
                                    "1": "344810",
                                    "2": "1037647",
                                    "3": "7300",
                                    "4": "7400"
                                }
                            ]
                        },
                        "text/html": [
                            "<table>",
                            "<tr><th>DATE</th><th>E-mini S&amp;P 500 Options.Calls</th><th>E-mini S&amp;P 500 Options.Puts</th><th>S&amp;P 500 Options.Calls</th><th>S&amp;P 500 Options.Puts</th></tr>",
                            "<tr><td>2021-05-03 00:00:00</td><td>357625</td><td>802223</td><td>3800</td><td>5881</td></tr>",
                            "<tr><td>2021-05-04 00:00:00</td><td>364186</td><td>812532</td><td>3800</td><td>5881</td></tr>",
                            "<tr><td>2021-05-05 00:00:00</td><td>367268</td><td>825685</td><td>3800</td><td>5881</td></tr>",
                            "<tr><td>2021-05-06 00:00:00</td><td>370681</td><td>832834</td><td>3800</td><td>5831</td></tr>",
                            "<tr><td>2021-05-07 00:00:00</td><td>379461</td><td>848933</td><td>3800</td><td>5831</td></tr>",
                            "<tr><td>2021-05-10 00:00:00</td><td>386800</td><td>865134</td><td>3200</td><td>5831</td></tr>",
                            "<tr><td>2021-05-11 00:00:00</td><td>393936</td><td>895099</td><td>3200</td><td>5931</td></tr>",
                            "<tr><td>2021-05-12 00:00:00</td><td>401538</td><td>921431</td><td>3250</td><td>6131</td></tr>",
                            "<tr><td>2021-05-13 00:00:00</td><td>410596</td><td>939069</td><td>3250</td><td>6481</td></tr>",
                            "<tr><td>2021-05-14 00:00:00</td><td>415004</td><td>952599</td><td>3300</td><td>6581</td></tr>",
                            "<tr><td>2021-05-17 00:00:00</td><td>421267</td><td>966184</td><td>3550</td><td>6681</td></tr>",
                            "<tr><td>2021-05-18 00:00:00</td><td>426821</td><td>972965</td><td>3550</td><td>6681</td></tr>",
                            "<tr><td>2021-05-19 00:00:00</td><td>439816</td><td>990480</td><td>3550</td><td>6681</td></tr>",
                            "<tr><td>2021-05-20 00:00:00</td><td>443243</td><td>993495</td><td>3600</td><td>6731</td></tr>",
                            "<tr><td>2021-05-21 00:00:00</td><td>445860</td><td>996255</td><td>3600</td><td>6731</td></tr>",
                            "<tr><td>2021-05-24 00:00:00</td><td>450800</td><td>999024</td><td>3950</td><td>6731</td></tr>",
                            "<tr><td>2021-05-25 00:00:00</td><td>454822</td><td>1008662</td><td>3950</td><td>8765</td></tr>",
                            "<tr><td>2021-05-26 00:00:00</td><td>436640</td><td>977502</td><td>3952</td><td>10278</td></tr>",
                            "<tr><td>2021-05-27 00:00:00</td><td>442057</td><td>978681</td><td>3952</td><td>10378</td></tr>",
                            "<tr><td>2021-05-28 00:00:00</td><td>443903</td><td>981016</td><td>3952</td><td>13485</td></tr>",
                            "<tr><td>2021-06-01 00:00:00</td><td>441281</td><td>1002481</td><td>3952</td><td>13485</td></tr>",
                            "<tr><td>2021-06-02 00:00:00</td><td>444182</td><td>1011876</td><td>3952</td><td>13485</td></tr>",
                            "<tr><td>2021-06-03 00:00:00</td><td>447309</td><td>1030785</td><td>3952</td><td>13535</td></tr>",
                            "<tr><td>2021-06-04 00:00:00</td><td>449199</td><td>1050515</td><td>4152</td><td>15529</td></tr>",
                            "<tr><td>2021-06-07 00:00:00</td><td>447332</td><td>1059546</td><td>4152</td><td>15529</td></tr>",
                            "<tr><td>2021-06-08 00:00:00</td><td>449505</td><td>1079150</td><td>4152</td><td>15529</td></tr>",
                            "<tr><td>2021-06-09 00:00:00</td><td>454784</td><td>1095301</td><td>4152</td><td>15529</td></tr>",
                            "<tr><td>2021-06-10 00:00:00</td><td>456740</td><td>1110664</td><td>4352</td><td>17601</td></tr>",
                            "<tr><td>2021-06-11 00:00:00</td><td>463475</td><td>1152274</td><td>6281</td><td>22079</td></tr>",
                            "<tr><td>2021-06-14 00:00:00</td><td>472891</td><td>1197252</td><td>7916</td><td>22379</td></tr>",
                            "<tr><td>2021-06-15 00:00:00</td><td>480539</td><td>1219865</td><td>7916</td><td>23769</td></tr>",
                            "<tr><td>2021-06-16 00:00:00</td><td>495254</td><td>1381282</td><td>8016</td><td>33911</td></tr>",
                            "<tr><td>2021-06-17 00:00:00</td><td>510580</td><td>1432723</td><td>9971</td><td>35531</td></tr>",
                            "<tr><td>2021-06-18 00:00:00</td><td>222921</td><td>574668</td><td>3100</td><td>4550</td></tr>",
                            "<tr><td>2021-06-21 00:00:00</td><td>225653</td><td>692964</td><td>4350</td><td>5450</td></tr>",
                            "<tr><td>2021-06-22 00:00:00</td><td>226307</td><td>708476</td><td>4450</td><td>5450</td></tr>",
                            "<tr><td>2021-06-23 00:00:00</td><td>230548</td><td>719240</td><td>4450</td><td>5450</td></tr>",
                            "<tr><td>2021-06-24 00:00:00</td><td>235870</td><td>734775</td><td>4450</td><td>5450</td></tr>",
                            "<tr><td>2021-06-25 00:00:00</td><td>239559</td><td>739151</td><td>4450</td><td>5450</td></tr>",
                            "<tr><td>2021-06-28 00:00:00</td><td>242626</td><td>742730</td><td>4450</td><td>5450</td></tr>",
                            "<tr><td>2021-06-29 00:00:00</td><td>245655</td><td>750332</td><td>4450</td><td>5450</td></tr>",
                            "<tr><td>2021-06-30 00:00:00</td><td>252126</td><td>760127</td><td>4450</td><td>5450</td></tr>",
                            "<tr><td>2021-07-02 00:00:00</td><td>261968</td><td>789159</td><td>4800</td><td>5450</td></tr>",
                            "<tr><td>2021-07-06 00:00:00</td><td>265671</td><td>802456</td><td>6400</td><td>5850</td></tr>",
                            "<tr><td>2021-07-08 00:00:00</td><td>270916</td><td>821815</td><td>6750</td><td>6750</td></tr>",
                            "<tr><td>2021-07-12 00:00:00</td><td>278756</td><td>857623</td><td>7050</td><td>6750</td></tr>",
                            "<tr><td>2021-07-14 00:00:00</td><td>287716</td><td>869947</td><td>7050</td><td>6750</td></tr>",
                            "<tr><td>2021-07-15 00:00:00</td><td>291877</td><td>877179</td><td>7050</td><td>6750</td></tr>",
                            "<tr><td>2021-07-16 00:00:00</td><td>294859</td><td>888145</td><td>7050</td><td>6750</td></tr>",
                            "<tr><td>2021-07-19 00:00:00</td><td>311466</td><td>948032</td><td>7050</td><td>7350</td></tr>",
                            "<tr><td>2021-07-20 00:00:00</td><td>316226</td><td>958077</td><td>7050</td><td>7350</td></tr>",
                            "<tr><td>2021-07-21 00:00:00</td><td>319771</td><td>964842</td><td>7050</td><td>7350</td></tr>",
                            "<tr><td>2021-07-22 00:00:00</td><td>322622</td><td>971996</td><td>7050</td><td>7350</td></tr>",
                            "<tr><td>2021-07-23 00:00:00</td><td>326027</td><td>978921</td><td>7250</td><td>7350</td></tr>",
                            "<tr><td>2021-07-27 00:00:00</td><td>334977</td><td>999476</td><td>7300</td><td>7400</td></tr>",
                            "<tr><td>2021-07-28 00:00:00</td><td>336967</td><td>1010074</td><td>7300</td><td>7400</td></tr>",
                            "<tr><td>2021-07-29 00:00:00</td><td>338745</td><td>1017426</td><td>7300</td><td>7400</td></tr>",
                            "<tr><td>2021-07-30 00:00:00</td><td>342089</td><td>1029872</td><td>7300</td><td>7400</td></tr>",
                            "<tr><td>2021-08-02 00:00:00</td><td>344810</td><td>1037647</td><td>7300</td><td>7400</td></tr>",
                            "</table>"
                        ]
                    }
                }
            ],
            "execution_count": 1
        },
        {
            "cell_type": "markdown",
            "source": [
                ""
            ],
            "metadata": {
                "azdata_cell_guid": "0803c50a-10eb-47cd-a3b5-4d5c202ae889"
            }
        },
        {
            "cell_type": "markdown",
            "source": [
                "# Select Sector Open Interest"
            ],
            "metadata": {
                "azdata_cell_guid": "9c520b84-162d-47e4-9017-336bb98c88a2"
            },
            "attachments": {}
        },
        {
            "cell_type": "code",
            "source": [
                "select Date, \r\n",
                "    [E-mini Communication Services Select Sector Futures.Futures] as [E-mini Communication Services], \r\n",
                "    [E-mini Consumer Discretionary Select Sector Futures.Futures] as [E-mini Consumer Discretionary],\r\n",
                "    [E-mini Consumer Staples Select Sector Futures.Futures] as [E-mini Consumer Staples],\r\n",
                "    [E-mini Energy Select Sector Futures.Futures] as [E-mini Energy], \r\n",
                "    [E-mini Financial Select Sector Futures.Futures] as [E-mini Financial],\r\n",
                "    [E-mini Health Care Select Sector Futures.Futures] as [E-mini Health Care],\r\n",
                "    [E-mini Industrial Select Sector Futures.Futures] as [E-mini Industrial],   \r\n",
                "    [E-mini Materials Select Sector Futures.Futures] as [E-mini Materials],\r\n",
                "    [E-mini Real Estate Select Sector Futures.Futures] as [E-mini Real Estate],\r\n",
                "    [E-mini Technology Select Sector Futures.Futures] as [E-mini Technology],\r\n",
                "    [E-mini Utilities Select Sector Futures.Futures] as [E-mini Utilities]\r\n",
                "from\r\n",
                "    (\r\n",
                "    select Date, (trim(Name)+'.'+trim(Type)) as Name, OpenInterest from COMEX_Daily_Volume_OpenInterest_Equity where Name like '%Select Sector%' --and trim(type) in ('Calls', 'Puts')\r\n",
                "    ) T\r\n",
                "    PIVOT(\r\n",
                "    AVG(OpenInterest)\r\n",
                "    for Name in ([E-mini Communication Services Select Sector Futures.Futures], \r\n",
                "            [E-mini Consumer Discretionary Select Sector Futures.Futures],\r\n",
                "            [E-mini Consumer Staples Select Sector Futures.Futures],\r\n",
                "            [E-mini Energy Select Sector Futures.Futures], \r\n",
                "            [E-mini Financial Select Sector Futures.Futures],\r\n",
                "            [E-mini Health Care Select Sector Futures.Futures],\r\n",
                "            [E-mini Industrial Select Sector Futures.Futures],   \r\n",
                "            [E-mini Materials Select Sector Futures.Futures],\r\n",
                "            [E-mini Real Estate Select Sector Futures.Futures],\r\n",
                "            [E-mini Technology Select Sector Futures.Futures],\r\n",
                "            [E-mini Utilities Select Sector Futures.Futures])\r\n",
                "    ) as pvt"
            ],
            "metadata": {
                "azdata_cell_guid": "b436fa25-4722-49b2-9ed9-8a0ecd907a70",
                "tags": [
                    "hide_input"
                ]
            },
            "outputs": [
                {
                    "output_type": "display_data",
                    "data": {
                        "text/html": "(59 rows affected)"
                    },
                    "metadata": {}
                },
                {
                    "output_type": "display_data",
                    "data": {
                        "text/html": "Total execution time: 00:00:00.079"
                    },
                    "metadata": {}
                },
                {
                    "output_type": "execute_result",
                    "metadata": {
                        "azdata_chartOptions": {
                            "type": "line",
                            "dataDirection": "vertical",
                            "columnsAsLabels": true,
                            "labelFirstColumn": false,
                            "legendPosition": "top",
                            "dataType": "number"
                        }
                    },
                    "execution_count": 2,
                    "data": {
                        "application/vnd.dataresource+json": {
                            "schema": {
                                "fields": [
                                    {
                                        "name": "Date"
                                    },
                                    {
                                        "name": "E-mini Communication Services"
                                    },
                                    {
                                        "name": "E-mini Consumer Discretionary"
                                    },
                                    {
                                        "name": "E-mini Consumer Staples"
                                    },
                                    {
                                        "name": "E-mini Energy"
                                    },
                                    {
                                        "name": "E-mini Financial"
                                    },
                                    {
                                        "name": "E-mini Health Care"
                                    },
                                    {
                                        "name": "E-mini Industrial"
                                    },
                                    {
                                        "name": "E-mini Materials"
                                    },
                                    {
                                        "name": "E-mini Real Estate"
                                    },
                                    {
                                        "name": "E-mini Technology"
                                    },
                                    {
                                        "name": "E-mini Utilities"
                                    }
                                ]
                            },
                            "data": [
                                {
                                    "0": "2021-05-03 00:00:00",
                                    "1": "3275",
                                    "2": "3003",
                                    "3": "11475",
                                    "4": "22845",
                                    "5": "54003",
                                    "6": "14306",
                                    "7": "23368",
                                    "8": "6495",
                                    "9": "10029",
                                    "10": "8214",
                                    "11": "14480"
                                },
                                {
                                    "0": "2021-05-04 00:00:00",
                                    "1": "3207",
                                    "2": "3004",
                                    "3": "11586",
                                    "4": "23772",
                                    "5": "53780",
                                    "6": "14375",
                                    "7": "23310",
                                    "8": "6763",
                                    "9": "10246",
                                    "10": "8168",
                                    "11": "14468"
                                },
                                {
                                    "0": "2021-05-05 00:00:00",
                                    "1": "3148",
                                    "2": "3613",
                                    "3": "11577",
                                    "4": "25100",
                                    "5": "53964",
                                    "6": "14530",
                                    "7": "22746",
                                    "8": "7981",
                                    "9": "10275",
                                    "10": "8941",
                                    "11": "14446"
                                },
                                {
                                    "0": "2021-05-06 00:00:00",
                                    "1": "3196",
                                    "2": "3602",
                                    "3": "11690",
                                    "4": "25309",
                                    "5": "54178",
                                    "6": "14361",
                                    "7": "22764",
                                    "8": "8468",
                                    "9": "10293",
                                    "10": "9134",
                                    "11": "14322"
                                },
                                {
                                    "0": "2021-05-07 00:00:00",
                                    "1": "3185",
                                    "2": "3625",
                                    "3": "11678",
                                    "4": "25214",
                                    "5": "55565",
                                    "6": "14383",
                                    "7": "20281",
                                    "8": "8559",
                                    "9": "10293",
                                    "10": "9044",
                                    "11": "14468"
                                },
                                {
                                    "0": "2021-05-10 00:00:00",
                                    "1": "3163",
                                    "2": "3600",
                                    "3": "11841",
                                    "4": "26463",
                                    "5": "55947",
                                    "6": "14410",
                                    "7": "20336",
                                    "8": "8878",
                                    "9": "10288",
                                    "10": "9007",
                                    "11": "14413"
                                },
                                {
                                    "0": "2021-05-11 00:00:00",
                                    "1": "3116",
                                    "2": "3708",
                                    "3": "12423",
                                    "4": "27472",
                                    "5": "55597",
                                    "6": "14391",
                                    "7": "20509",
                                    "8": "8843",
                                    "9": "10277",
                                    "10": "9106",
                                    "11": "14250"
                                },
                                {
                                    "0": "2021-05-12 00:00:00",
                                    "1": "3052",
                                    "2": "4032",
                                    "3": "13497",
                                    "4": "28741",
                                    "5": "55458",
                                    "6": "14771",
                                    "7": "20458",
                                    "8": "8801",
                                    "9": "10279",
                                    "10": "9102",
                                    "11": "14295"
                                },
                                {
                                    "0": "2021-05-13 00:00:00",
                                    "1": "3045",
                                    "2": "3932",
                                    "3": "12862",
                                    "4": "28938",
                                    "5": "55381",
                                    "6": "14250",
                                    "7": "20451",
                                    "8": "8880",
                                    "9": "10289",
                                    "10": "9090",
                                    "11": "14287"
                                },
                                {
                                    "0": "2021-05-14 00:00:00",
                                    "1": "3058",
                                    "2": "3947",
                                    "3": "13100",
                                    "4": "28907",
                                    "5": "55377",
                                    "6": "14334",
                                    "7": "20433",
                                    "8": "8890",
                                    "9": "10274",
                                    "10": "8995",
                                    "11": "14016"
                                },
                                {
                                    "0": "2021-05-17 00:00:00",
                                    "1": "3299",
                                    "2": "4286",
                                    "3": "14278",
                                    "4": "29839",
                                    "5": "55408",
                                    "6": "14528",
                                    "7": "20940",
                                    "8": "9052",
                                    "9": "10272",
                                    "10": "9144",
                                    "11": "14086"
                                },
                                {
                                    "0": "2021-05-18 00:00:00",
                                    "1": "3299",
                                    "2": "4281",
                                    "3": "13641",
                                    "4": "30856",
                                    "5": "54553",
                                    "6": "14499",
                                    "7": "20510",
                                    "8": "9039",
                                    "9": "10255",
                                    "10": "9142",
                                    "11": "14039"
                                },
                                {
                                    "0": "2021-05-19 00:00:00",
                                    "1": "3716",
                                    "2": "4293",
                                    "3": "14012",
                                    "4": "30471",
                                    "5": "53778",
                                    "6": "14671",
                                    "7": "20501",
                                    "8": "8794",
                                    "9": "11226",
                                    "10": "9239",
                                    "11": "14043"
                                },
                                {
                                    "0": "2021-05-20 00:00:00",
                                    "1": "3808",
                                    "2": "4299",
                                    "3": "14294",
                                    "4": "30539",
                                    "5": "53200",
                                    "6": "13999",
                                    "7": "20860",
                                    "8": "8623",
                                    "9": "11223",
                                    "10": "9872",
                                    "11": "13987"
                                },
                                {
                                    "0": "2021-05-21 00:00:00",
                                    "1": "3879",
                                    "2": "4296",
                                    "3": "14280",
                                    "4": "30664",
                                    "5": "53589",
                                    "6": "14055",
                                    "7": "20858",
                                    "8": "8621",
                                    "9": "11229",
                                    "10": "9969",
                                    "11": "13807"
                                },
                                {
                                    "0": "2021-05-24 00:00:00",
                                    "1": "3887",
                                    "2": "4290",
                                    "3": "14289",
                                    "4": "30642",
                                    "5": "53122",
                                    "6": "14187",
                                    "7": "20700",
                                    "8": "8601",
                                    "9": "11272",
                                    "10": "9948",
                                    "11": "13821"
                                },
                                {
                                    "0": "2021-05-25 00:00:00",
                                    "1": "3911",
                                    "2": "4312",
                                    "3": "14199",
                                    "4": "30965",
                                    "5": "52703",
                                    "6": "14143",
                                    "7": "20868",
                                    "8": "8760",
                                    "9": "11242",
                                    "10": "9945",
                                    "11": "13760"
                                },
                                {
                                    "0": "2021-05-26 00:00:00",
                                    "1": "3945",
                                    "2": "4547",
                                    "3": "14444",
                                    "4": "33397",
                                    "5": "52480",
                                    "6": "14135",
                                    "7": "19858",
                                    "8": "9000",
                                    "9": "11245",
                                    "10": "10723",
                                    "11": "13457"
                                },
                                {
                                    "0": "2021-05-27 00:00:00",
                                    "1": "3841",
                                    "2": "4520",
                                    "3": "14738",
                                    "4": "32243",
                                    "5": "52517",
                                    "6": "14069",
                                    "7": "20126",
                                    "8": "8914",
                                    "9": "11235",
                                    "10": "10034",
                                    "11": "13300"
                                },
                                {
                                    "0": "2021-05-28 00:00:00",
                                    "1": "3847",
                                    "2": "4556",
                                    "3": "14924",
                                    "4": "32404",
                                    "5": "52668",
                                    "6": "14040",
                                    "7": "20022",
                                    "8": "8782",
                                    "9": "11221",
                                    "10": "10018",
                                    "11": "13353"
                                },
                                {
                                    "0": "2021-06-01 00:00:00",
                                    "1": "3848",
                                    "2": "4633",
                                    "3": "15117",
                                    "4": "32488",
                                    "5": "52476",
                                    "6": "13910",
                                    "7": "20613",
                                    "8": "8856",
                                    "9": "11234",
                                    "10": "10091",
                                    "11": "13287"
                                },
                                {
                                    "0": "2021-06-02 00:00:00",
                                    "1": "3839",
                                    "2": "4651",
                                    "3": "15183",
                                    "4": "32798",
                                    "5": "52457",
                                    "6": "13895",
                                    "7": "20463",
                                    "8": "8868",
                                    "9": "11179",
                                    "10": "9998",
                                    "11": "13175"
                                },
                                {
                                    "0": "2021-06-03 00:00:00",
                                    "1": "3605",
                                    "2": "4629",
                                    "3": "20640",
                                    "4": "34184",
                                    "5": "52524",
                                    "6": "13902",
                                    "7": "20492",
                                    "8": "11057",
                                    "9": "11213",
                                    "10": "9825",
                                    "11": "13362"
                                },
                                {
                                    "0": "2021-06-04 00:00:00",
                                    "1": "3547",
                                    "2": "4609",
                                    "3": "21208",
                                    "4": "34209",
                                    "5": "52492",
                                    "6": "13903",
                                    "7": "20440",
                                    "8": "11476",
                                    "9": "11210",
                                    "10": "9785",
                                    "11": "12771"
                                },
                                {
                                    "0": "2021-06-07 00:00:00",
                                    "1": "3547",
                                    "2": "4628",
                                    "3": "24365",
                                    "4": "34162",
                                    "5": "52334",
                                    "6": "13942",
                                    "7": "20277",
                                    "8": "11447",
                                    "9": "11209",
                                    "10": "9692",
                                    "11": "12849"
                                },
                                {
                                    "0": "2021-06-08 00:00:00",
                                    "1": "3545",
                                    "2": "4624",
                                    "3": "24316",
                                    "4": "34363",
                                    "5": "52611",
                                    "6": "13922",
                                    "7": "19906",
                                    "8": "11431",
                                    "9": "11212",
                                    "10": "9683",
                                    "11": "13013"
                                },
                                {
                                    "0": "2021-06-09 00:00:00",
                                    "1": "3544",
                                    "2": "4647",
                                    "3": "23696",
                                    "4": "34203",
                                    "5": "53009",
                                    "6": "13933",
                                    "7": "19649",
                                    "8": "11592",
                                    "9": "11216",
                                    "10": "9594",
                                    "11": "12910"
                                },
                                {
                                    "0": "2021-06-10 00:00:00",
                                    "1": "3614",
                                    "2": "4739",
                                    "3": "23722",
                                    "4": "35681",
                                    "5": "53183",
                                    "6": "14443",
                                    "7": "19660",
                                    "8": "11852",
                                    "9": "11462",
                                    "10": "9709",
                                    "11": "12976"
                                },
                                {
                                    "0": "2021-06-11 00:00:00",
                                    "1": "3548",
                                    "2": "5293",
                                    "3": "40947",
                                    "4": "41979",
                                    "5": "63789",
                                    "6": "14260",
                                    "7": "25128",
                                    "8": "16853",
                                    "9": "16563",
                                    "10": "9784",
                                    "11": "13886"
                                },
                                {
                                    "0": "2021-06-14 00:00:00",
                                    "1": "3611",
                                    "2": "5265",
                                    "3": "35026",
                                    "4": "46564",
                                    "5": "65046",
                                    "6": "14891",
                                    "7": "21171",
                                    "8": "15707",
                                    "9": "16546",
                                    "10": "12020",
                                    "11": "14365"
                                },
                                {
                                    "0": "2021-06-15 00:00:00",
                                    "1": "3663",
                                    "2": "5334",
                                    "3": "37581",
                                    "4": "45052",
                                    "5": "61435",
                                    "6": "19357",
                                    "7": "21016",
                                    "8": "16144",
                                    "9": "17192",
                                    "10": "11590",
                                    "11": "16515"
                                },
                                {
                                    "0": "2021-06-16 00:00:00",
                                    "1": "3689",
                                    "2": "5917",
                                    "3": "41596",
                                    "4": "44679",
                                    "5": "60563",
                                    "6": "16654",
                                    "7": "21031",
                                    "8": "15624",
                                    "9": "17232",
                                    "10": "11034",
                                    "11": "15327"
                                },
                                {
                                    "0": "2021-06-17 00:00:00",
                                    "1": "3802",
                                    "2": "5241",
                                    "3": "34842",
                                    "4": "44120",
                                    "5": "60389",
                                    "6": "16758",
                                    "7": "21138",
                                    "8": "15591",
                                    "9": "17011",
                                    "10": "11266",
                                    "11": "15224"
                                },
                                {
                                    "0": "2021-06-18 00:00:00",
                                    "1": "3738",
                                    "2": "5094",
                                    "3": "34791",
                                    "4": "44004",
                                    "5": "57361",
                                    "6": "17128",
                                    "7": "21166",
                                    "8": "15854",
                                    "9": "16549",
                                    "10": "11594",
                                    "11": "15442"
                                },
                                {
                                    "0": "2021-06-21 00:00:00",
                                    "1": "1869",
                                    "2": "3094",
                                    "3": "23340",
                                    "4": "25422",
                                    "5": "44673",
                                    "6": "10994",
                                    "7": "19002",
                                    "8": "10276",
                                    "9": "8733",
                                    "10": "8479",
                                    "11": "9634"
                                },
                                {
                                    "0": "2021-06-22 00:00:00",
                                    "1": "1872",
                                    "2": "3163",
                                    "3": "24815",
                                    "4": "22703",
                                    "5": "43548",
                                    "6": "11304",
                                    "7": "18980",
                                    "8": "10350",
                                    "9": "8630",
                                    "10": "9991",
                                    "11": "9609"
                                },
                                {
                                    "0": "2021-06-23 00:00:00",
                                    "1": "1880",
                                    "2": "3164",
                                    "3": "24713",
                                    "4": "22431",
                                    "5": "42250",
                                    "6": "11494",
                                    "7": "18968",
                                    "8": "10001",
                                    "9": "8637",
                                    "10": "9683",
                                    "11": "9562"
                                },
                                {
                                    "0": "2021-06-24 00:00:00",
                                    "1": "1878",
                                    "2": "3129",
                                    "3": "24587",
                                    "4": "22660",
                                    "5": "42342",
                                    "6": "11772",
                                    "7": "18955",
                                    "8": "10003",
                                    "9": "8637",
                                    "10": "9662",
                                    "11": "9541"
                                },
                                {
                                    "0": "2021-06-25 00:00:00",
                                    "1": "1928",
                                    "2": "3216",
                                    "3": "24432",
                                    "4": "23081",
                                    "5": "42179",
                                    "6": "11925",
                                    "7": "19021",
                                    "8": "10074",
                                    "9": "8644",
                                    "10": "9618",
                                    "11": "9702"
                                },
                                {
                                    "0": "2021-06-28 00:00:00",
                                    "1": "1933",
                                    "2": "3200",
                                    "3": "24447",
                                    "4": "23049",
                                    "5": "42181",
                                    "6": "11987",
                                    "7": "19042",
                                    "8": "10063",
                                    "9": "8665",
                                    "10": "9617",
                                    "11": "9536"
                                },
                                {
                                    "0": "2021-06-29 00:00:00",
                                    "1": "1937",
                                    "2": "3177",
                                    "3": "24056",
                                    "4": "23057",
                                    "5": "41358",
                                    "6": "11965",
                                    "7": "18797",
                                    "8": "9999",
                                    "9": "8629",
                                    "10": "9591",
                                    "11": "9401"
                                },
                                {
                                    "0": "2021-06-30 00:00:00",
                                    "1": "1926",
                                    "2": "3150",
                                    "3": "23915",
                                    "4": "22987",
                                    "5": "40968",
                                    "6": "12034",
                                    "7": "18751",
                                    "8": "9997",
                                    "9": "9818",
                                    "10": "9522",
                                    "11": "9328"
                                },
                                {
                                    "0": "2021-07-02 00:00:00",
                                    "1": "1909",
                                    "2": "3130",
                                    "3": "26333",
                                    "4": "23046",
                                    "5": "41028",
                                    "6": "12401",
                                    "7": "18863",
                                    "8": "10793",
                                    "9": "9832",
                                    "10": "9472",
                                    "11": "9288"
                                },
                                {
                                    "0": "2021-07-06 00:00:00",
                                    "1": "1914",
                                    "2": "3144",
                                    "3": "23894",
                                    "4": "23112",
                                    "5": "41002",
                                    "6": "11922",
                                    "7": "18722",
                                    "8": "10607",
                                    "9": "9814",
                                    "10": "9486",
                                    "11": "9338"
                                },
                                {
                                    "0": "2021-07-08 00:00:00",
                                    "1": "1934",
                                    "2": "3289",
                                    "3": "24698",
                                    "4": "22760",
                                    "5": "35323",
                                    "6": "12435",
                                    "7": "18494",
                                    "8": "9792",
                                    "9": "9763",
                                    "10": "9753",
                                    "11": "9532"
                                },
                                {
                                    "0": "2021-07-12 00:00:00",
                                    "1": "1930",
                                    "2": "3508",
                                    "3": "24199",
                                    "4": "24068",
                                    "5": "33543",
                                    "6": "12466",
                                    "7": "18128",
                                    "8": "9836",
                                    "9": "9755",
                                    "10": "9963",
                                    "11": "11410"
                                },
                                {
                                    "0": "2021-07-14 00:00:00",
                                    "1": "1936",
                                    "2": "3095",
                                    "3": "20045",
                                    "4": "20764",
                                    "5": "33215",
                                    "6": "13127",
                                    "7": "18106",
                                    "8": "9789",
                                    "9": "9775",
                                    "10": "9140",
                                    "11": "9915"
                                },
                                {
                                    "0": "2021-07-15 00:00:00",
                                    "1": "1928",
                                    "2": "3153",
                                    "3": "19983",
                                    "4": "21544",
                                    "5": "33024",
                                    "6": "12932",
                                    "7": "17904",
                                    "8": "9828",
                                    "9": "9743",
                                    "10": "9272",
                                    "11": "10463"
                                },
                                {
                                    "0": "2021-07-16 00:00:00",
                                    "1": "1935",
                                    "2": "3029",
                                    "3": "19974",
                                    "4": "21831",
                                    "5": "33087",
                                    "6": "13212",
                                    "7": "18828",
                                    "8": "10701",
                                    "9": "11128",
                                    "10": "9224",
                                    "11": "10380"
                                },
                                {
                                    "0": "2021-07-19 00:00:00",
                                    "1": "1938",
                                    "2": "3010",
                                    "3": "20059",
                                    "4": "22335",
                                    "5": "33068",
                                    "6": "13413",
                                    "7": "17844",
                                    "8": "9607",
                                    "9": "11228",
                                    "10": "9265",
                                    "11": "12130"
                                },
                                {
                                    "0": "2021-07-20 00:00:00",
                                    "1": "1918",
                                    "2": "3173",
                                    "3": "20417",
                                    "4": "22225",
                                    "5": "31368",
                                    "6": "13445",
                                    "7": "16954",
                                    "8": "9476",
                                    "9": "11230",
                                    "10": "9287",
                                    "11": "12319"
                                },
                                {
                                    "0": "2021-07-21 00:00:00",
                                    "1": "1935",
                                    "2": "3108",
                                    "3": "20650",
                                    "4": "21856",
                                    "5": "29395",
                                    "6": "13298",
                                    "7": "16912",
                                    "8": "9525",
                                    "9": "11240",
                                    "10": "9563",
                                    "11": "12278"
                                },
                                {
                                    "0": "2021-07-22 00:00:00",
                                    "1": "1944",
                                    "2": "3075",
                                    "3": "20902",
                                    "4": "21862",
                                    "5": "29279",
                                    "6": "13253",
                                    "7": "16934",
                                    "8": "9509",
                                    "9": "9846",
                                    "10": "9558",
                                    "11": "12261"
                                },
                                {
                                    "0": "2021-07-23 00:00:00",
                                    "1": "1914",
                                    "2": "3176",
                                    "3": "21110",
                                    "4": "22242",
                                    "5": "30084",
                                    "6": "13059",
                                    "7": "17038",
                                    "8": "9468",
                                    "9": "9831",
                                    "10": "9729",
                                    "11": "13598"
                                },
                                {
                                    "0": "2021-07-27 00:00:00",
                                    "1": "1907",
                                    "2": "3166",
                                    "3": "21574",
                                    "4": "22177",
                                    "5": "29218",
                                    "6": "12792",
                                    "7": "16654",
                                    "8": "9438",
                                    "9": "9838",
                                    "10": "9752",
                                    "11": "16913"
                                },
                                {
                                    "0": "2021-07-28 00:00:00",
                                    "1": "1899",
                                    "2": "3186",
                                    "3": "21782",
                                    "4": "22257",
                                    "5": "29192",
                                    "6": "12711",
                                    "7": "16627",
                                    "8": "9447",
                                    "9": "9863",
                                    "10": "9733",
                                    "11": "18301"
                                },
                                {
                                    "0": "2021-07-29 00:00:00",
                                    "1": "1911",
                                    "2": "3200",
                                    "3": "22024",
                                    "4": "22798",
                                    "5": "29195",
                                    "6": "12618",
                                    "7": "16658",
                                    "8": "9416",
                                    "9": "9828",
                                    "10": "9910",
                                    "11": "18318"
                                },
                                {
                                    "0": "2021-07-30 00:00:00",
                                    "1": "1890",
                                    "2": "3174",
                                    "3": "22163",
                                    "4": "22886",
                                    "5": "28631",
                                    "6": "12552",
                                    "7": "16611",
                                    "8": "9393",
                                    "9": "9841",
                                    "10": "9885",
                                    "11": "18243"
                                },
                                {
                                    "0": "2021-08-02 00:00:00",
                                    "1": "1877",
                                    "2": "3210",
                                    "3": "22643",
                                    "4": "22697",
                                    "5": "28995",
                                    "6": "12586",
                                    "7": "16582",
                                    "8": "9379",
                                    "9": "9831",
                                    "10": "9960",
                                    "11": "19967"
                                }
                            ]
                        },
                        "text/html": [
                            "<table>",
                            "<tr><th>Date</th><th>E-mini Communication Services</th><th>E-mini Consumer Discretionary</th><th>E-mini Consumer Staples</th><th>E-mini Energy</th><th>E-mini Financial</th><th>E-mini Health Care</th><th>E-mini Industrial</th><th>E-mini Materials</th><th>E-mini Real Estate</th><th>E-mini Technology</th><th>E-mini Utilities</th></tr>",
                            "<tr><td>2021-05-03 00:00:00</td><td>3275</td><td>3003</td><td>11475</td><td>22845</td><td>54003</td><td>14306</td><td>23368</td><td>6495</td><td>10029</td><td>8214</td><td>14480</td></tr>",
                            "<tr><td>2021-05-04 00:00:00</td><td>3207</td><td>3004</td><td>11586</td><td>23772</td><td>53780</td><td>14375</td><td>23310</td><td>6763</td><td>10246</td><td>8168</td><td>14468</td></tr>",
                            "<tr><td>2021-05-05 00:00:00</td><td>3148</td><td>3613</td><td>11577</td><td>25100</td><td>53964</td><td>14530</td><td>22746</td><td>7981</td><td>10275</td><td>8941</td><td>14446</td></tr>",
                            "<tr><td>2021-05-06 00:00:00</td><td>3196</td><td>3602</td><td>11690</td><td>25309</td><td>54178</td><td>14361</td><td>22764</td><td>8468</td><td>10293</td><td>9134</td><td>14322</td></tr>",
                            "<tr><td>2021-05-07 00:00:00</td><td>3185</td><td>3625</td><td>11678</td><td>25214</td><td>55565</td><td>14383</td><td>20281</td><td>8559</td><td>10293</td><td>9044</td><td>14468</td></tr>",
                            "<tr><td>2021-05-10 00:00:00</td><td>3163</td><td>3600</td><td>11841</td><td>26463</td><td>55947</td><td>14410</td><td>20336</td><td>8878</td><td>10288</td><td>9007</td><td>14413</td></tr>",
                            "<tr><td>2021-05-11 00:00:00</td><td>3116</td><td>3708</td><td>12423</td><td>27472</td><td>55597</td><td>14391</td><td>20509</td><td>8843</td><td>10277</td><td>9106</td><td>14250</td></tr>",
                            "<tr><td>2021-05-12 00:00:00</td><td>3052</td><td>4032</td><td>13497</td><td>28741</td><td>55458</td><td>14771</td><td>20458</td><td>8801</td><td>10279</td><td>9102</td><td>14295</td></tr>",
                            "<tr><td>2021-05-13 00:00:00</td><td>3045</td><td>3932</td><td>12862</td><td>28938</td><td>55381</td><td>14250</td><td>20451</td><td>8880</td><td>10289</td><td>9090</td><td>14287</td></tr>",
                            "<tr><td>2021-05-14 00:00:00</td><td>3058</td><td>3947</td><td>13100</td><td>28907</td><td>55377</td><td>14334</td><td>20433</td><td>8890</td><td>10274</td><td>8995</td><td>14016</td></tr>",
                            "<tr><td>2021-05-17 00:00:00</td><td>3299</td><td>4286</td><td>14278</td><td>29839</td><td>55408</td><td>14528</td><td>20940</td><td>9052</td><td>10272</td><td>9144</td><td>14086</td></tr>",
                            "<tr><td>2021-05-18 00:00:00</td><td>3299</td><td>4281</td><td>13641</td><td>30856</td><td>54553</td><td>14499</td><td>20510</td><td>9039</td><td>10255</td><td>9142</td><td>14039</td></tr>",
                            "<tr><td>2021-05-19 00:00:00</td><td>3716</td><td>4293</td><td>14012</td><td>30471</td><td>53778</td><td>14671</td><td>20501</td><td>8794</td><td>11226</td><td>9239</td><td>14043</td></tr>",
                            "<tr><td>2021-05-20 00:00:00</td><td>3808</td><td>4299</td><td>14294</td><td>30539</td><td>53200</td><td>13999</td><td>20860</td><td>8623</td><td>11223</td><td>9872</td><td>13987</td></tr>",
                            "<tr><td>2021-05-21 00:00:00</td><td>3879</td><td>4296</td><td>14280</td><td>30664</td><td>53589</td><td>14055</td><td>20858</td><td>8621</td><td>11229</td><td>9969</td><td>13807</td></tr>",
                            "<tr><td>2021-05-24 00:00:00</td><td>3887</td><td>4290</td><td>14289</td><td>30642</td><td>53122</td><td>14187</td><td>20700</td><td>8601</td><td>11272</td><td>9948</td><td>13821</td></tr>",
                            "<tr><td>2021-05-25 00:00:00</td><td>3911</td><td>4312</td><td>14199</td><td>30965</td><td>52703</td><td>14143</td><td>20868</td><td>8760</td><td>11242</td><td>9945</td><td>13760</td></tr>",
                            "<tr><td>2021-05-26 00:00:00</td><td>3945</td><td>4547</td><td>14444</td><td>33397</td><td>52480</td><td>14135</td><td>19858</td><td>9000</td><td>11245</td><td>10723</td><td>13457</td></tr>",
                            "<tr><td>2021-05-27 00:00:00</td><td>3841</td><td>4520</td><td>14738</td><td>32243</td><td>52517</td><td>14069</td><td>20126</td><td>8914</td><td>11235</td><td>10034</td><td>13300</td></tr>",
                            "<tr><td>2021-05-28 00:00:00</td><td>3847</td><td>4556</td><td>14924</td><td>32404</td><td>52668</td><td>14040</td><td>20022</td><td>8782</td><td>11221</td><td>10018</td><td>13353</td></tr>",
                            "<tr><td>2021-06-01 00:00:00</td><td>3848</td><td>4633</td><td>15117</td><td>32488</td><td>52476</td><td>13910</td><td>20613</td><td>8856</td><td>11234</td><td>10091</td><td>13287</td></tr>",
                            "<tr><td>2021-06-02 00:00:00</td><td>3839</td><td>4651</td><td>15183</td><td>32798</td><td>52457</td><td>13895</td><td>20463</td><td>8868</td><td>11179</td><td>9998</td><td>13175</td></tr>",
                            "<tr><td>2021-06-03 00:00:00</td><td>3605</td><td>4629</td><td>20640</td><td>34184</td><td>52524</td><td>13902</td><td>20492</td><td>11057</td><td>11213</td><td>9825</td><td>13362</td></tr>",
                            "<tr><td>2021-06-04 00:00:00</td><td>3547</td><td>4609</td><td>21208</td><td>34209</td><td>52492</td><td>13903</td><td>20440</td><td>11476</td><td>11210</td><td>9785</td><td>12771</td></tr>",
                            "<tr><td>2021-06-07 00:00:00</td><td>3547</td><td>4628</td><td>24365</td><td>34162</td><td>52334</td><td>13942</td><td>20277</td><td>11447</td><td>11209</td><td>9692</td><td>12849</td></tr>",
                            "<tr><td>2021-06-08 00:00:00</td><td>3545</td><td>4624</td><td>24316</td><td>34363</td><td>52611</td><td>13922</td><td>19906</td><td>11431</td><td>11212</td><td>9683</td><td>13013</td></tr>",
                            "<tr><td>2021-06-09 00:00:00</td><td>3544</td><td>4647</td><td>23696</td><td>34203</td><td>53009</td><td>13933</td><td>19649</td><td>11592</td><td>11216</td><td>9594</td><td>12910</td></tr>",
                            "<tr><td>2021-06-10 00:00:00</td><td>3614</td><td>4739</td><td>23722</td><td>35681</td><td>53183</td><td>14443</td><td>19660</td><td>11852</td><td>11462</td><td>9709</td><td>12976</td></tr>",
                            "<tr><td>2021-06-11 00:00:00</td><td>3548</td><td>5293</td><td>40947</td><td>41979</td><td>63789</td><td>14260</td><td>25128</td><td>16853</td><td>16563</td><td>9784</td><td>13886</td></tr>",
                            "<tr><td>2021-06-14 00:00:00</td><td>3611</td><td>5265</td><td>35026</td><td>46564</td><td>65046</td><td>14891</td><td>21171</td><td>15707</td><td>16546</td><td>12020</td><td>14365</td></tr>",
                            "<tr><td>2021-06-15 00:00:00</td><td>3663</td><td>5334</td><td>37581</td><td>45052</td><td>61435</td><td>19357</td><td>21016</td><td>16144</td><td>17192</td><td>11590</td><td>16515</td></tr>",
                            "<tr><td>2021-06-16 00:00:00</td><td>3689</td><td>5917</td><td>41596</td><td>44679</td><td>60563</td><td>16654</td><td>21031</td><td>15624</td><td>17232</td><td>11034</td><td>15327</td></tr>",
                            "<tr><td>2021-06-17 00:00:00</td><td>3802</td><td>5241</td><td>34842</td><td>44120</td><td>60389</td><td>16758</td><td>21138</td><td>15591</td><td>17011</td><td>11266</td><td>15224</td></tr>",
                            "<tr><td>2021-06-18 00:00:00</td><td>3738</td><td>5094</td><td>34791</td><td>44004</td><td>57361</td><td>17128</td><td>21166</td><td>15854</td><td>16549</td><td>11594</td><td>15442</td></tr>",
                            "<tr><td>2021-06-21 00:00:00</td><td>1869</td><td>3094</td><td>23340</td><td>25422</td><td>44673</td><td>10994</td><td>19002</td><td>10276</td><td>8733</td><td>8479</td><td>9634</td></tr>",
                            "<tr><td>2021-06-22 00:00:00</td><td>1872</td><td>3163</td><td>24815</td><td>22703</td><td>43548</td><td>11304</td><td>18980</td><td>10350</td><td>8630</td><td>9991</td><td>9609</td></tr>",
                            "<tr><td>2021-06-23 00:00:00</td><td>1880</td><td>3164</td><td>24713</td><td>22431</td><td>42250</td><td>11494</td><td>18968</td><td>10001</td><td>8637</td><td>9683</td><td>9562</td></tr>",
                            "<tr><td>2021-06-24 00:00:00</td><td>1878</td><td>3129</td><td>24587</td><td>22660</td><td>42342</td><td>11772</td><td>18955</td><td>10003</td><td>8637</td><td>9662</td><td>9541</td></tr>",
                            "<tr><td>2021-06-25 00:00:00</td><td>1928</td><td>3216</td><td>24432</td><td>23081</td><td>42179</td><td>11925</td><td>19021</td><td>10074</td><td>8644</td><td>9618</td><td>9702</td></tr>",
                            "<tr><td>2021-06-28 00:00:00</td><td>1933</td><td>3200</td><td>24447</td><td>23049</td><td>42181</td><td>11987</td><td>19042</td><td>10063</td><td>8665</td><td>9617</td><td>9536</td></tr>",
                            "<tr><td>2021-06-29 00:00:00</td><td>1937</td><td>3177</td><td>24056</td><td>23057</td><td>41358</td><td>11965</td><td>18797</td><td>9999</td><td>8629</td><td>9591</td><td>9401</td></tr>",
                            "<tr><td>2021-06-30 00:00:00</td><td>1926</td><td>3150</td><td>23915</td><td>22987</td><td>40968</td><td>12034</td><td>18751</td><td>9997</td><td>9818</td><td>9522</td><td>9328</td></tr>",
                            "<tr><td>2021-07-02 00:00:00</td><td>1909</td><td>3130</td><td>26333</td><td>23046</td><td>41028</td><td>12401</td><td>18863</td><td>10793</td><td>9832</td><td>9472</td><td>9288</td></tr>",
                            "<tr><td>2021-07-06 00:00:00</td><td>1914</td><td>3144</td><td>23894</td><td>23112</td><td>41002</td><td>11922</td><td>18722</td><td>10607</td><td>9814</td><td>9486</td><td>9338</td></tr>",
                            "<tr><td>2021-07-08 00:00:00</td><td>1934</td><td>3289</td><td>24698</td><td>22760</td><td>35323</td><td>12435</td><td>18494</td><td>9792</td><td>9763</td><td>9753</td><td>9532</td></tr>",
                            "<tr><td>2021-07-12 00:00:00</td><td>1930</td><td>3508</td><td>24199</td><td>24068</td><td>33543</td><td>12466</td><td>18128</td><td>9836</td><td>9755</td><td>9963</td><td>11410</td></tr>",
                            "<tr><td>2021-07-14 00:00:00</td><td>1936</td><td>3095</td><td>20045</td><td>20764</td><td>33215</td><td>13127</td><td>18106</td><td>9789</td><td>9775</td><td>9140</td><td>9915</td></tr>",
                            "<tr><td>2021-07-15 00:00:00</td><td>1928</td><td>3153</td><td>19983</td><td>21544</td><td>33024</td><td>12932</td><td>17904</td><td>9828</td><td>9743</td><td>9272</td><td>10463</td></tr>",
                            "<tr><td>2021-07-16 00:00:00</td><td>1935</td><td>3029</td><td>19974</td><td>21831</td><td>33087</td><td>13212</td><td>18828</td><td>10701</td><td>11128</td><td>9224</td><td>10380</td></tr>",
                            "<tr><td>2021-07-19 00:00:00</td><td>1938</td><td>3010</td><td>20059</td><td>22335</td><td>33068</td><td>13413</td><td>17844</td><td>9607</td><td>11228</td><td>9265</td><td>12130</td></tr>",
                            "<tr><td>2021-07-20 00:00:00</td><td>1918</td><td>3173</td><td>20417</td><td>22225</td><td>31368</td><td>13445</td><td>16954</td><td>9476</td><td>11230</td><td>9287</td><td>12319</td></tr>",
                            "<tr><td>2021-07-21 00:00:00</td><td>1935</td><td>3108</td><td>20650</td><td>21856</td><td>29395</td><td>13298</td><td>16912</td><td>9525</td><td>11240</td><td>9563</td><td>12278</td></tr>",
                            "<tr><td>2021-07-22 00:00:00</td><td>1944</td><td>3075</td><td>20902</td><td>21862</td><td>29279</td><td>13253</td><td>16934</td><td>9509</td><td>9846</td><td>9558</td><td>12261</td></tr>",
                            "<tr><td>2021-07-23 00:00:00</td><td>1914</td><td>3176</td><td>21110</td><td>22242</td><td>30084</td><td>13059</td><td>17038</td><td>9468</td><td>9831</td><td>9729</td><td>13598</td></tr>",
                            "<tr><td>2021-07-27 00:00:00</td><td>1907</td><td>3166</td><td>21574</td><td>22177</td><td>29218</td><td>12792</td><td>16654</td><td>9438</td><td>9838</td><td>9752</td><td>16913</td></tr>",
                            "<tr><td>2021-07-28 00:00:00</td><td>1899</td><td>3186</td><td>21782</td><td>22257</td><td>29192</td><td>12711</td><td>16627</td><td>9447</td><td>9863</td><td>9733</td><td>18301</td></tr>",
                            "<tr><td>2021-07-29 00:00:00</td><td>1911</td><td>3200</td><td>22024</td><td>22798</td><td>29195</td><td>12618</td><td>16658</td><td>9416</td><td>9828</td><td>9910</td><td>18318</td></tr>",
                            "<tr><td>2021-07-30 00:00:00</td><td>1890</td><td>3174</td><td>22163</td><td>22886</td><td>28631</td><td>12552</td><td>16611</td><td>9393</td><td>9841</td><td>9885</td><td>18243</td></tr>",
                            "<tr><td>2021-08-02 00:00:00</td><td>1877</td><td>3210</td><td>22643</td><td>22697</td><td>28995</td><td>12586</td><td>16582</td><td>9379</td><td>9831</td><td>9960</td><td>19967</td></tr>",
                            "</table>"
                        ]
                    }
                }
            ],
            "execution_count": 2
        },
        {
            "cell_type": "markdown",
            "source": [
                "# Customer Margin Account Balance"
            ],
            "metadata": {
                "azdata_cell_guid": "75b67eaa-677c-495e-a87e-3666816cfab8"
            },
            "attachments": {}
        },
        {
            "cell_type": "code",
            "source": [
                "SELECT [Date]\r\n",
                "      ,[DebitBalances CustomerSecuritiesMarginAccount]\r\n",
                "      ,[FreeCreditBalances CustomerCashAccount]\r\n",
                "      ,[FreeCreditBalances CustomerSecuritiesMarginAccount]\r\n",
                "  FROM [FINRA].[dbo].[FINRA_monthly_Margin_Stast] order by Date"
            ],
            "metadata": {
                "azdata_cell_guid": "73cd2a73-3e0a-44b2-a73f-9c4ad5c7fae9",
                "tags": [
                    "hide_input"
                ]
            },
            "outputs": [
                {
                    "output_type": "display_data",
                    "data": {
                        "text/html": "(292 rows affected)"
                    },
                    "metadata": {}
                },
                {
                    "output_type": "display_data",
                    "data": {
                        "text/html": "Total execution time: 00:00:00.077"
                    },
                    "metadata": {}
                },
                {
                    "output_type": "execute_result",
                    "metadata": {
                        "azdata_chartOptions": {
                            "type": "line",
                            "dataDirection": "vertical",
                            "columnsAsLabels": true,
                            "labelFirstColumn": false,
                            "legendPosition": "top",
                            "dataType": "number"
                        }
                    },
                    "execution_count": 3,
                    "data": {
                        "application/vnd.dataresource+json": {
                            "schema": {
                                "fields": [
                                    {
                                        "name": "Date"
                                    },
                                    {
                                        "name": "DebitBalances CustomerSecuritiesMarginAccount"
                                    },
                                    {
                                        "name": "FreeCreditBalances CustomerCashAccount"
                                    },
                                    {
                                        "name": "FreeCreditBalances CustomerSecuritiesMarginAccount"
                                    }
                                ]
                            },
                            "data": [
                                {
                                    "0": "1997-01-01 00:00:00",
                                    "1": "103337",
                                    "2": "68856",
                                    "3": "NULL"
                                },
                                {
                                    "0": "1997-02-01 00:00:00",
                                    "1": "103886",
                                    "2": "67058",
                                    "3": "NULL"
                                },
                                {
                                    "0": "1997-03-01 00:00:00",
                                    "1": "104835",
                                    "2": "69553",
                                    "3": "NULL"
                                },
                                {
                                    "0": "1997-04-01 00:00:00",
                                    "1": "102842",
                                    "2": "64825",
                                    "3": "NULL"
                                },
                                {
                                    "0": "1997-05-01 00:00:00",
                                    "1": "111097",
                                    "2": "66879",
                                    "3": "NULL"
                                },
                                {
                                    "0": "1997-06-01 00:00:00",
                                    "1": "118843",
                                    "2": "72422",
                                    "3": "NULL"
                                },
                                {
                                    "0": "1997-07-01 00:00:00",
                                    "1": "121090",
                                    "2": "73714",
                                    "3": "NULL"
                                },
                                {
                                    "0": "1997-08-01 00:00:00",
                                    "1": "124404",
                                    "2": "71211",
                                    "3": "NULL"
                                },
                                {
                                    "0": "1997-09-01 00:00:00",
                                    "1": "131962",
                                    "2": "73087",
                                    "3": "NULL"
                                },
                                {
                                    "0": "1997-10-01 00:00:00",
                                    "1": "134491",
                                    "2": "80287",
                                    "3": "NULL"
                                },
                                {
                                    "0": "1997-11-01 00:00:00",
                                    "1": "132741",
                                    "2": "77259",
                                    "3": "NULL"
                                },
                                {
                                    "0": "1997-12-01 00:00:00",
                                    "1": "131560",
                                    "2": "88590",
                                    "3": "NULL"
                                },
                                {
                                    "0": "1998-01-01 00:00:00",
                                    "1": "132912",
                                    "2": "83362",
                                    "3": "NULL"
                                },
                                {
                                    "0": "1998-02-01 00:00:00",
                                    "1": "141328",
                                    "2": "81932",
                                    "3": "NULL"
                                },
                                {
                                    "0": "1998-03-01 00:00:00",
                                    "1": "146536",
                                    "2": "85580",
                                    "3": "NULL"
                                },
                                {
                                    "0": "1998-04-01 00:00:00",
                                    "1": "146589",
                                    "2": "85771",
                                    "3": "NULL"
                                },
                                {
                                    "0": "1998-05-01 00:00:00",
                                    "1": "150293",
                                    "2": "80174",
                                    "3": "NULL"
                                },
                                {
                                    "0": "1998-06-01 00:00:00",
                                    "1": "154357",
                                    "2": "87891",
                                    "3": "NULL"
                                },
                                {
                                    "0": "1998-07-01 00:00:00",
                                    "1": "160980",
                                    "2": "92687",
                                    "3": "NULL"
                                },
                                {
                                    "0": "1998-08-01 00:00:00",
                                    "1": "155879",
                                    "2": "100093",
                                    "3": "NULL"
                                },
                                {
                                    "0": "1998-09-01 00:00:00",
                                    "1": "144541",
                                    "2": "103879",
                                    "3": "NULL"
                                },
                                {
                                    "0": "1998-10-01 00:00:00",
                                    "1": "138399",
                                    "2": "108179",
                                    "3": "NULL"
                                },
                                {
                                    "0": "1998-11-01 00:00:00",
                                    "1": "148697",
                                    "2": "108032",
                                    "3": "NULL"
                                },
                                {
                                    "0": "1998-12-01 00:00:00",
                                    "1": "148674",
                                    "2": "111507",
                                    "3": "NULL"
                                },
                                {
                                    "0": "1999-01-01 00:00:00",
                                    "1": "162322",
                                    "2": "107200",
                                    "3": "NULL"
                                },
                                {
                                    "0": "1999-02-01 00:00:00",
                                    "1": "162909",
                                    "2": "109523",
                                    "3": "NULL"
                                },
                                {
                                    "0": "1999-03-01 00:00:00",
                                    "1": "166212",
                                    "2": "109941",
                                    "3": "NULL"
                                },
                                {
                                    "0": "1999-04-01 00:00:00",
                                    "1": "184329",
                                    "2": "112290",
                                    "3": "NULL"
                                },
                                {
                                    "0": "1999-05-01 00:00:00",
                                    "1": "189950",
                                    "2": "114271",
                                    "3": "NULL"
                                },
                                {
                                    "0": "1999-06-01 00:00:00",
                                    "1": "187695",
                                    "2": "116982",
                                    "3": "NULL"
                                },
                                {
                                    "0": "1999-07-01 00:00:00",
                                    "1": "189503",
                                    "2": "115017",
                                    "3": "NULL"
                                },
                                {
                                    "0": "1999-08-01 00:00:00",
                                    "1": "187616",
                                    "2": "117149",
                                    "3": "NULL"
                                },
                                {
                                    "0": "1999-09-01 00:00:00",
                                    "1": "189741",
                                    "2": "121207",
                                    "3": "NULL"
                                },
                                {
                                    "0": "1999-10-01 00:00:00",
                                    "1": "194259",
                                    "2": "123457",
                                    "3": "NULL"
                                },
                                {
                                    "0": "1999-11-01 00:00:00",
                                    "1": "218304",
                                    "2": "131786",
                                    "3": "NULL"
                                },
                                {
                                    "0": "1999-12-01 00:00:00",
                                    "1": "241967",
                                    "2": "146582",
                                    "3": "NULL"
                                },
                                {
                                    "0": "2000-01-01 00:00:00",
                                    "1": "260409",
                                    "2": "148567",
                                    "3": "NULL"
                                },
                                {
                                    "0": "2000-02-01 00:00:00",
                                    "1": "284206",
                                    "2": "153540",
                                    "3": "NULL"
                                },
                                {
                                    "0": "2000-03-01 00:00:00",
                                    "1": "299933",
                                    "2": "168002",
                                    "3": "NULL"
                                },
                                {
                                    "0": "2000-04-01 00:00:00",
                                    "1": "268716",
                                    "2": "156868",
                                    "3": "NULL"
                                },
                                {
                                    "0": "2000-05-01 00:00:00",
                                    "1": "256862",
                                    "2": "153843",
                                    "3": "NULL"
                                },
                                {
                                    "0": "2000-06-01 00:00:00",
                                    "1": "264471",
                                    "2": "153050",
                                    "3": "NULL"
                                },
                                {
                                    "0": "2000-07-01 00:00:00",
                                    "1": "263729",
                                    "2": "163050",
                                    "3": "NULL"
                                },
                                {
                                    "0": "2000-08-01 00:00:00",
                                    "1": "265166",
                                    "2": "156775",
                                    "3": "NULL"
                                },
                                {
                                    "0": "2000-09-01 00:00:00",
                                    "1": "270208",
                                    "2": "160964",
                                    "3": "NULL"
                                },
                                {
                                    "0": "2000-10-01 00:00:00",
                                    "1": "250965",
                                    "2": "172738",
                                    "3": "NULL"
                                },
                                {
                                    "0": "2000-11-01 00:00:00",
                                    "1": "237913",
                                    "2": "186459",
                                    "3": "NULL"
                                },
                                {
                                    "0": "2000-12-01 00:00:00",
                                    "1": "210385",
                                    "2": "198179",
                                    "3": "NULL"
                                },
                                {
                                    "0": "2001-01-01 00:00:00",
                                    "1": "208687",
                                    "2": "187225",
                                    "3": "NULL"
                                },
                                {
                                    "0": "2001-02-01 00:00:00",
                                    "1": "198887",
                                    "2": "193266",
                                    "3": "NULL"
                                },
                                {
                                    "0": "2001-03-01 00:00:00",
                                    "1": "174797",
                                    "2": "198581",
                                    "3": "NULL"
                                },
                                {
                                    "0": "2001-04-01 00:00:00",
                                    "1": "176096",
                                    "2": "191145",
                                    "3": "NULL"
                                },
                                {
                                    "0": "2001-05-01 00:00:00",
                                    "1": "183041",
                                    "2": "183493",
                                    "3": "NULL"
                                },
                                {
                                    "0": "2001-06-01 00:00:00",
                                    "1": "179585",
                                    "2": "187602",
                                    "3": "NULL"
                                },
                                {
                                    "0": "2001-07-01 00:00:00",
                                    "1": "173680",
                                    "2": "185100",
                                    "3": "NULL"
                                },
                                {
                                    "0": "2001-08-01 00:00:00",
                                    "1": "169316",
                                    "2": "191219",
                                    "3": "NULL"
                                },
                                {
                                    "0": "2001-09-01 00:00:00",
                                    "1": "157931",
                                    "2": "211281",
                                    "3": "NULL"
                                },
                                {
                                    "0": "2001-10-01 00:00:00",
                                    "1": "152367",
                                    "2": "187012",
                                    "3": "NULL"
                                },
                                {
                                    "0": "2001-11-01 00:00:00",
                                    "1": "159440",
                                    "2": "188441",
                                    "3": "NULL"
                                },
                                {
                                    "0": "2001-12-01 00:00:00",
                                    "1": "160473",
                                    "2": "197424",
                                    "3": "NULL"
                                },
                                {
                                    "0": "2002-01-01 00:00:00",
                                    "1": "160906",
                                    "2": "189841",
                                    "3": "NULL"
                                },
                                {
                                    "0": "2002-02-01 00:00:00",
                                    "1": "154931",
                                    "2": "186919",
                                    "3": "NULL"
                                },
                                {
                                    "0": "2002-03-01 00:00:00",
                                    "1": "160089",
                                    "2": "180578",
                                    "3": "NULL"
                                },
                                {
                                    "0": "2002-04-01 00:00:00",
                                    "1": "159072",
                                    "2": "175730",
                                    "3": "NULL"
                                },
                                {
                                    "0": "2002-05-01 00:00:00",
                                    "1": "157802",
                                    "2": "173395",
                                    "3": "NULL"
                                },
                                {
                                    "0": "2002-06-01 00:00:00",
                                    "1": "153972",
                                    "2": "178744",
                                    "3": "NULL"
                                },
                                {
                                    "0": "2002-07-01 00:00:00",
                                    "1": "143905",
                                    "2": "183326",
                                    "3": "NULL"
                                },
                                {
                                    "0": "2002-08-01 00:00:00",
                                    "1": "139146",
                                    "2": "174995",
                                    "3": "NULL"
                                },
                                {
                                    "0": "2002-09-01 00:00:00",
                                    "1": "136107",
                                    "2": "180997",
                                    "3": "NULL"
                                },
                                {
                                    "0": "2002-10-01 00:00:00",
                                    "1": "138647",
                                    "2": "181069",
                                    "3": "NULL"
                                },
                                {
                                    "0": "2002-11-01 00:00:00",
                                    "1": "139472",
                                    "2": "176062",
                                    "3": "NULL"
                                },
                                {
                                    "0": "2002-12-01 00:00:00",
                                    "1": "139451",
                                    "2": "184715",
                                    "3": "NULL"
                                },
                                {
                                    "0": "2003-01-01 00:00:00",
                                    "1": "141391",
                                    "2": "179528",
                                    "3": "NULL"
                                },
                                {
                                    "0": "2003-02-01 00:00:00",
                                    "1": "140516",
                                    "2": "179925",
                                    "3": "NULL"
                                },
                                {
                                    "0": "2003-03-01 00:00:00",
                                    "1": "144267",
                                    "2": "176955",
                                    "3": "NULL"
                                },
                                {
                                    "0": "2003-04-01 00:00:00",
                                    "1": "143237",
                                    "2": "168756",
                                    "3": "NULL"
                                },
                                {
                                    "0": "2003-05-01 00:00:00",
                                    "1": "153725",
                                    "2": "178946",
                                    "3": "NULL"
                                },
                                {
                                    "0": "2003-06-01 00:00:00",
                                    "1": "168281",
                                    "2": "190026",
                                    "3": "NULL"
                                },
                                {
                                    "0": "2003-07-01 00:00:00",
                                    "1": "174427",
                                    "2": "199973",
                                    "3": "NULL"
                                },
                                {
                                    "0": "2003-08-01 00:00:00",
                                    "1": "167200",
                                    "2": "188112",
                                    "3": "NULL"
                                },
                                {
                                    "0": "2003-09-01 00:00:00",
                                    "1": "171194",
                                    "2": "189826",
                                    "3": "NULL"
                                },
                                {
                                    "0": "2003-10-01 00:00:00",
                                    "1": "175428",
                                    "2": "191554",
                                    "3": "NULL"
                                },
                                {
                                    "0": "2003-11-01 00:00:00",
                                    "1": "182587",
                                    "2": "184899",
                                    "3": "NULL"
                                },
                                {
                                    "0": "2003-12-01 00:00:00",
                                    "1": "181459",
                                    "2": "199297",
                                    "3": "NULL"
                                },
                                {
                                    "0": "2004-01-01 00:00:00",
                                    "1": "189429",
                                    "2": "198628",
                                    "3": "NULL"
                                },
                                {
                                    "0": "2004-02-01 00:00:00",
                                    "1": "190448",
                                    "2": "200323",
                                    "3": "NULL"
                                },
                                {
                                    "0": "2004-03-01 00:00:00",
                                    "1": "191451",
                                    "2": "203953",
                                    "3": "NULL"
                                },
                                {
                                    "0": "2004-04-01 00:00:00",
                                    "1": "198778",
                                    "2": "217992",
                                    "3": "NULL"
                                },
                                {
                                    "0": "2004-05-01 00:00:00",
                                    "1": "193843",
                                    "2": "219640",
                                    "3": "NULL"
                                },
                                {
                                    "0": "2004-06-01 00:00:00",
                                    "1": "193993",
                                    "2": "220781",
                                    "3": "NULL"
                                },
                                {
                                    "0": "2004-07-01 00:00:00",
                                    "1": "187844",
                                    "2": "220196",
                                    "3": "NULL"
                                },
                                {
                                    "0": "2004-08-01 00:00:00",
                                    "1": "187828",
                                    "2": "217945",
                                    "3": "NULL"
                                },
                                {
                                    "0": "2004-09-01 00:00:00",
                                    "1": "193668",
                                    "2": "220860",
                                    "3": "NULL"
                                },
                                {
                                    "0": "2004-10-01 00:00:00",
                                    "1": "197999",
                                    "2": "218090",
                                    "3": "NULL"
                                },
                                {
                                    "0": "2004-11-01 00:00:00",
                                    "1": "211012",
                                    "2": "223928",
                                    "3": "NULL"
                                },
                                {
                                    "0": "2004-12-01 00:00:00",
                                    "1": "217573",
                                    "2": "238192",
                                    "3": "NULL"
                                },
                                {
                                    "0": "2005-01-01 00:00:00",
                                    "1": "220122",
                                    "2": "230624",
                                    "3": "NULL"
                                },
                                {
                                    "0": "2005-02-01 00:00:00",
                                    "1": "223155",
                                    "2": "224392",
                                    "3": "NULL"
                                },
                                {
                                    "0": "2005-03-01 00:00:00",
                                    "1": "226876",
                                    "2": "234533",
                                    "3": "NULL"
                                },
                                {
                                    "0": "2005-04-01 00:00:00",
                                    "1": "217447",
                                    "2": "223839",
                                    "3": "NULL"
                                },
                                {
                                    "0": "2005-05-01 00:00:00",
                                    "1": "219404",
                                    "2": "224933",
                                    "3": "NULL"
                                },
                                {
                                    "0": "2005-06-01 00:00:00",
                                    "1": "224153",
                                    "2": "234352",
                                    "3": "NULL"
                                },
                                {
                                    "0": "2005-07-01 00:00:00",
                                    "1": "233585",
                                    "2": "224242",
                                    "3": "NULL"
                                },
                                {
                                    "0": "2005-08-01 00:00:00",
                                    "1": "231400",
                                    "2": "225410",
                                    "3": "NULL"
                                },
                                {
                                    "0": "2005-09-01 00:00:00",
                                    "1": "244669",
                                    "2": "238929",
                                    "3": "NULL"
                                },
                                {
                                    "0": "2005-10-01 00:00:00",
                                    "1": "239868",
                                    "2": "243174",
                                    "3": "NULL"
                                },
                                {
                                    "0": "2005-11-01 00:00:00",
                                    "1": "242904",
                                    "2": "241695",
                                    "3": "NULL"
                                },
                                {
                                    "0": "2005-12-01 00:00:00",
                                    "1": "244098",
                                    "2": "263205",
                                    "3": "NULL"
                                },
                                {
                                    "0": "2006-01-01 00:00:00",
                                    "1": "255795",
                                    "2": "255819",
                                    "3": "NULL"
                                },
                                {
                                    "0": "2006-02-01 00:00:00",
                                    "1": "249609",
                                    "2": "257573",
                                    "3": "NULL"
                                },
                                {
                                    "0": "2006-03-01 00:00:00",
                                    "1": "259370",
                                    "2": "258928",
                                    "3": "NULL"
                                },
                                {
                                    "0": "2006-04-01 00:00:00",
                                    "1": "265164",
                                    "2": "259342",
                                    "3": "NULL"
                                },
                                {
                                    "0": "2006-05-01 00:00:00",
                                    "1": "255608",
                                    "2": "264307",
                                    "3": "NULL"
                                },
                                {
                                    "0": "2006-06-01 00:00:00",
                                    "1": "251495",
                                    "2": "280275",
                                    "3": "NULL"
                                },
                                {
                                    "0": "2006-07-01 00:00:00",
                                    "1": "256016",
                                    "2": "269376",
                                    "3": "NULL"
                                },
                                {
                                    "0": "2006-08-01 00:00:00",
                                    "1": "249368",
                                    "2": "269423",
                                    "3": "NULL"
                                },
                                {
                                    "0": "2006-09-01 00:00:00",
                                    "1": "261769",
                                    "2": "268612",
                                    "3": "NULL"
                                },
                                {
                                    "0": "2006-10-01 00:00:00",
                                    "1": "267710",
                                    "2": "267462",
                                    "3": "NULL"
                                },
                                {
                                    "0": "2006-11-01 00:00:00",
                                    "1": "294899",
                                    "2": "290910",
                                    "3": "NULL"
                                },
                                {
                                    "0": "2006-12-01 00:00:00",
                                    "1": "303288",
                                    "2": "299023",
                                    "3": "NULL"
                                },
                                {
                                    "0": "2007-01-01 00:00:00",
                                    "1": "311506",
                                    "2": "292521",
                                    "3": "NULL"
                                },
                                {
                                    "0": "2007-02-01 00:00:00",
                                    "1": "321171",
                                    "2": "300072",
                                    "3": "NULL"
                                },
                                {
                                    "0": "2007-03-01 00:00:00",
                                    "1": "317737",
                                    "2": "305479",
                                    "3": "NULL"
                                },
                                {
                                    "0": "2007-04-01 00:00:00",
                                    "1": "342084",
                                    "2": "314744",
                                    "3": "NULL"
                                },
                                {
                                    "0": "2007-05-01 00:00:00",
                                    "1": "382312",
                                    "2": "334359",
                                    "3": "NULL"
                                },
                                {
                                    "0": "2007-06-01 00:00:00",
                                    "1": "408444",
                                    "2": "347617",
                                    "3": "NULL"
                                },
                                {
                                    "0": "2007-07-01 00:00:00",
                                    "1": "416403",
                                    "2": "380971",
                                    "3": "NULL"
                                },
                                {
                                    "0": "2007-08-01 00:00:00",
                                    "1": "362475",
                                    "2": "381550",
                                    "3": "NULL"
                                },
                                {
                                    "0": "2007-09-01 00:00:00",
                                    "1": "359104",
                                    "2": "377364",
                                    "3": "NULL"
                                },
                                {
                                    "0": "2007-10-01 00:00:00",
                                    "1": "376979",
                                    "2": "392543",
                                    "3": "NULL"
                                },
                                {
                                    "0": "2007-11-01 00:00:00",
                                    "1": "379593",
                                    "2": "426721",
                                    "3": "NULL"
                                },
                                {
                                    "0": "2007-12-01 00:00:00",
                                    "1": "355292",
                                    "2": "456353",
                                    "3": "NULL"
                                },
                                {
                                    "0": "2008-01-01 00:00:00",
                                    "1": "365592",
                                    "2": "474496",
                                    "3": "NULL"
                                },
                                {
                                    "0": "2008-02-01 00:00:00",
                                    "1": "377088",
                                    "2": "454785",
                                    "3": "NULL"
                                },
                                {
                                    "0": "2008-03-01 00:00:00",
                                    "1": "349419",
                                    "2": "488831",
                                    "3": "NULL"
                                },
                                {
                                    "0": "2008-04-01 00:00:00",
                                    "1": "332303",
                                    "2": "472371",
                                    "3": "NULL"
                                },
                                {
                                    "0": "2008-05-01 00:00:00",
                                    "1": "341610",
                                    "2": "470188",
                                    "3": "NULL"
                                },
                                {
                                    "0": "2008-06-01 00:00:00",
                                    "1": "346892",
                                    "2": "499634",
                                    "3": "NULL"
                                },
                                {
                                    "0": "2008-07-01 00:00:00",
                                    "1": "343297",
                                    "2": "519226",
                                    "3": "NULL"
                                },
                                {
                                    "0": "2008-08-01 00:00:00",
                                    "1": "324814",
                                    "2": "530042",
                                    "3": "NULL"
                                },
                                {
                                    "0": "2008-09-01 00:00:00",
                                    "1": "345745",
                                    "2": "381702",
                                    "3": "NULL"
                                },
                                {
                                    "0": "2008-10-01 00:00:00",
                                    "1": "277568",
                                    "2": "383429",
                                    "3": "NULL"
                                },
                                {
                                    "0": "2008-11-01 00:00:00",
                                    "1": "227334",
                                    "2": "364232",
                                    "3": "NULL"
                                },
                                {
                                    "0": "2008-12-01 00:00:00",
                                    "1": "210185",
                                    "2": "345713",
                                    "3": "NULL"
                                },
                                {
                                    "0": "2009-01-01 00:00:00",
                                    "1": "205007",
                                    "2": "316763",
                                    "3": "NULL"
                                },
                                {
                                    "0": "2009-02-01 00:00:00",
                                    "1": "199655",
                                    "2": "310503",
                                    "3": "NULL"
                                },
                                {
                                    "0": "2009-03-01 00:00:00",
                                    "1": "203967",
                                    "2": "291927",
                                    "3": "NULL"
                                },
                                {
                                    "0": "2009-04-01 00:00:00",
                                    "1": "208010",
                                    "2": "285658",
                                    "3": "NULL"
                                },
                                {
                                    "0": "2009-05-01 00:00:00",
                                    "1": "214401",
                                    "2": "275313",
                                    "3": "NULL"
                                },
                                {
                                    "0": "2009-06-01 00:00:00",
                                    "1": "217140",
                                    "2": "283874",
                                    "3": "NULL"
                                },
                                {
                                    "0": "2009-07-01 00:00:00",
                                    "1": "228734",
                                    "2": "277082",
                                    "3": "NULL"
                                },
                                {
                                    "0": "2009-08-01 00:00:00",
                                    "1": "236251",
                                    "2": "281989",
                                    "3": "NULL"
                                },
                                {
                                    "0": "2009-09-01 00:00:00",
                                    "1": "254107",
                                    "2": "287196",
                                    "3": "NULL"
                                },
                                {
                                    "0": "2009-10-01 00:00:00",
                                    "1": "265404",
                                    "2": "299858",
                                    "3": "NULL"
                                },
                                {
                                    "0": "2009-11-01 00:00:00",
                                    "1": "250988",
                                    "2": "284071",
                                    "3": "NULL"
                                },
                                {
                                    "0": "2009-12-01 00:00:00",
                                    "1": "262399",
                                    "2": "281043",
                                    "3": "NULL"
                                },
                                {
                                    "0": "2010-01-01 00:00:00",
                                    "1": "266455",
                                    "2": "281035",
                                    "3": "NULL"
                                },
                                {
                                    "0": "2010-02-01 00:00:00",
                                    "1": "263657",
                                    "2": "106131",
                                    "3": "164624"
                                },
                                {
                                    "0": "2010-03-01 00:00:00",
                                    "1": "277798",
                                    "2": "108908",
                                    "3": "162169"
                                },
                                {
                                    "0": "2010-04-01 00:00:00",
                                    "1": "295550",
                                    "2": "111217",
                                    "3": "160630"
                                },
                                {
                                    "0": "2010-05-01 00:00:00",
                                    "1": "268566",
                                    "2": "114051",
                                    "3": "166706"
                                },
                                {
                                    "0": "2010-06-01 00:00:00",
                                    "1": "263202",
                                    "2": "114265",
                                    "3": "172908"
                                },
                                {
                                    "0": "2010-07-01 00:00:00",
                                    "1": "267468",
                                    "2": "106290",
                                    "3": "172179"
                                },
                                {
                                    "0": "2010-08-01 00:00:00",
                                    "1": "268371",
                                    "2": "106870",
                                    "3": "174209"
                                },
                                {
                                    "0": "2010-09-01 00:00:00",
                                    "1": "288540",
                                    "2": "114321",
                                    "3": "173544"
                                },
                                {
                                    "0": "2010-10-01 00:00:00",
                                    "1": "303428",
                                    "2": "114784",
                                    "3": "176588"
                                },
                                {
                                    "0": "2010-11-01 00:00:00",
                                    "1": "309340",
                                    "2": "119305",
                                    "3": "176805"
                                },
                                {
                                    "0": "2010-12-01 00:00:00",
                                    "1": "313678",
                                    "2": "126098",
                                    "3": "182426"
                                },
                                {
                                    "0": "2011-01-01 00:00:00",
                                    "1": "326868",
                                    "2": "130894",
                                    "3": "173545"
                                },
                                {
                                    "0": "2011-02-01 00:00:00",
                                    "1": "348979",
                                    "2": "135760",
                                    "3": "179102"
                                },
                                {
                                    "0": "2011-03-01 00:00:00",
                                    "1": "355413",
                                    "2": "133386",
                                    "3": "170139"
                                },
                                {
                                    "0": "2011-04-01 00:00:00",
                                    "1": "360883",
                                    "2": "133131",
                                    "3": "175399"
                                },
                                {
                                    "0": "2011-05-01 00:00:00",
                                    "1": "355736",
                                    "2": "133727",
                                    "3": "175508"
                                },
                                {
                                    "0": "2011-06-01 00:00:00",
                                    "1": "345273",
                                    "2": "139575",
                                    "3": "183547"
                                },
                                {
                                    "0": "2011-07-01 00:00:00",
                                    "1": "344572",
                                    "2": "138316",
                                    "3": "182957"
                                },
                                {
                                    "0": "2011-08-01 00:00:00",
                                    "1": "308866",
                                    "2": "135508",
                                    "3": "193533"
                                },
                                {
                                    "0": "2011-09-01 00:00:00",
                                    "1": "298277",
                                    "2": "141806",
                                    "3": "204307"
                                },
                                {
                                    "0": "2011-10-01 00:00:00",
                                    "1": "317028",
                                    "2": "133639",
                                    "3": "188141"
                                },
                                {
                                    "0": "2011-11-01 00:00:00",
                                    "1": "303930",
                                    "2": "132934",
                                    "3": "188259"
                                },
                                {
                                    "0": "2011-12-01 00:00:00",
                                    "1": "301616",
                                    "2": "142533",
                                    "3": "189143"
                                },
                                {
                                    "0": "2012-01-01 00:00:00",
                                    "1": "309844",
                                    "2": "137309",
                                    "3": "174889"
                                },
                                {
                                    "0": "2012-02-01 00:00:00",
                                    "1": "323021",
                                    "2": "139609",
                                    "3": "177639"
                                },
                                {
                                    "0": "2012-03-01 00:00:00",
                                    "1": "330815",
                                    "2": "142297",
                                    "3": "182814"
                                },
                                {
                                    "0": "2012-04-01 00:00:00",
                                    "1": "335154",
                                    "2": "138909",
                                    "3": "182021"
                                },
                                {
                                    "0": "2012-05-01 00:00:00",
                                    "1": "315147",
                                    "2": "139111",
                                    "3": "187938"
                                },
                                {
                                    "0": "2012-06-01 00:00:00",
                                    "1": "320952",
                                    "2": "138937",
                                    "3": "192149"
                                },
                                {
                                    "0": "2012-07-01 00:00:00",
                                    "1": "313525",
                                    "2": "124330",
                                    "3": "194741"
                                },
                                {
                                    "0": "2012-08-01 00:00:00",
                                    "1": "320395",
                                    "2": "124276",
                                    "3": "196786"
                                },
                                {
                                    "0": "2012-09-01 00:00:00",
                                    "1": "339159",
                                    "2": "129389",
                                    "3": "205176"
                                },
                                {
                                    "0": "2012-10-01 00:00:00",
                                    "1": "342325",
                                    "2": "124800",
                                    "3": "200406"
                                },
                                {
                                    "0": "2012-11-01 00:00:00",
                                    "1": "351441",
                                    "2": "135650",
                                    "3": "202425"
                                },
                                {
                                    "0": "2012-12-01 00:00:00",
                                    "1": "355009",
                                    "2": "162206",
                                    "3": "211576"
                                },
                                {
                                    "0": "2013-01-01 00:00:00",
                                    "1": "388123",
                                    "2": "142856",
                                    "3": "199709"
                                },
                                {
                                    "0": "2013-02-01 00:00:00",
                                    "1": "390351",
                                    "2": "142123",
                                    "3": "208682"
                                },
                                {
                                    "0": "2013-03-01 00:00:00",
                                    "1": "403933",
                                    "2": "144530",
                                    "3": "197887"
                                },
                                {
                                    "0": "2013-04-01 00:00:00",
                                    "1": "408677",
                                    "2": "140706",
                                    "3": "191719"
                                },
                                {
                                    "0": "2013-05-01 00:00:00",
                                    "1": "401606",
                                    "2": "146765",
                                    "3": "199756"
                                },
                                {
                                    "0": "2013-06-01 00:00:00",
                                    "1": "407681",
                                    "2": "150093",
                                    "3": "200308"
                                },
                                {
                                    "0": "2013-07-01 00:00:00",
                                    "1": "412101",
                                    "2": "144495",
                                    "3": "194790"
                                },
                                {
                                    "0": "2013-08-01 00:00:00",
                                    "1": "414442",
                                    "2": "143808",
                                    "3": "195181"
                                },
                                {
                                    "0": "2013-09-01 00:00:00",
                                    "1": "432852",
                                    "2": "149895",
                                    "3": "197780"
                                },
                                {
                                    "0": "2013-10-01 00:00:00",
                                    "1": "445022",
                                    "2": "151494",
                                    "3": "199889"
                                },
                                {
                                    "0": "2013-11-01 00:00:00",
                                    "1": "456378",
                                    "2": "150214",
                                    "3": "199153"
                                },
                                {
                                    "0": "2013-12-01 00:00:00",
                                    "1": "478502",
                                    "2": "157000",
                                    "3": "197521"
                                },
                                {
                                    "0": "2014-01-01 00:00:00",
                                    "1": "487549",
                                    "2": "151878",
                                    "3": "195863"
                                },
                                {
                                    "0": "2014-02-01 00:00:00",
                                    "1": "502093",
                                    "2": "154049",
                                    "3": "190312"
                                },
                                {
                                    "0": "2014-03-01 00:00:00",
                                    "1": "487932",
                                    "2": "156083",
                                    "3": "194461"
                                },
                                {
                                    "0": "2014-04-01 00:00:00",
                                    "1": "475195",
                                    "2": "149801",
                                    "3": "194679"
                                },
                                {
                                    "0": "2014-05-01 00:00:00",
                                    "1": "475362",
                                    "2": "150474",
                                    "3": "188551"
                                },
                                {
                                    "0": "2014-06-01 00:00:00",
                                    "1": "502270",
                                    "2": "160293",
                                    "3": "184723"
                                },
                                {
                                    "0": "2014-07-01 00:00:00",
                                    "1": "498671",
                                    "2": "155931",
                                    "3": "177981"
                                },
                                {
                                    "0": "2014-08-01 00:00:00",
                                    "1": "501000",
                                    "2": "155245",
                                    "3": "180820"
                                },
                                {
                                    "0": "2014-09-01 00:00:00",
                                    "1": "503901",
                                    "2": "161621",
                                    "3": "183243"
                                },
                                {
                                    "0": "2014-10-01 00:00:00",
                                    "1": "492888",
                                    "2": "158624",
                                    "3": "185193"
                                },
                                {
                                    "0": "2014-11-01 00:00:00",
                                    "1": "496341",
                                    "2": "158420",
                                    "3": "184227"
                                },
                                {
                                    "0": "2014-12-01 00:00:00",
                                    "1": "495756",
                                    "2": "169295",
                                    "3": "181223"
                                },
                                {
                                    "0": "2015-01-01 00:00:00",
                                    "1": "485872",
                                    "2": "163599",
                                    "3": "178259"
                                },
                                {
                                    "0": "2015-02-01 00:00:00",
                                    "1": "504923",
                                    "2": "168371",
                                    "3": "170930"
                                },
                                {
                                    "0": "2015-03-01 00:00:00",
                                    "1": "518055",
                                    "2": "171625",
                                    "3": "170074"
                                },
                                {
                                    "0": "2015-04-01 00:00:00",
                                    "1": "549964",
                                    "2": "168430",
                                    "3": "167073"
                                },
                                {
                                    "0": "2015-05-01 00:00:00",
                                    "1": "541671",
                                    "2": "166334",
                                    "3": "169076"
                                },
                                {
                                    "0": "2015-06-01 00:00:00",
                                    "1": "547957",
                                    "2": "170614",
                                    "3": "168441"
                                },
                                {
                                    "0": "2015-07-01 00:00:00",
                                    "1": "530744",
                                    "2": "168659",
                                    "3": "169132"
                                },
                                {
                                    "0": "2015-08-01 00:00:00",
                                    "1": "515960",
                                    "2": "175647",
                                    "3": "168692"
                                },
                                {
                                    "0": "2015-09-01 00:00:00",
                                    "1": "497279",
                                    "2": "173760",
                                    "3": "167132"
                                },
                                {
                                    "0": "2015-10-01 00:00:00",
                                    "1": "513941",
                                    "2": "174437",
                                    "3": "163210"
                                },
                                {
                                    "0": "2015-11-01 00:00:00",
                                    "1": "515410",
                                    "2": "174607",
                                    "3": "165584"
                                },
                                {
                                    "0": "2015-12-01 00:00:00",
                                    "1": "503444",
                                    "2": "181812",
                                    "3": "159677"
                                },
                                {
                                    "0": "2016-01-01 00:00:00",
                                    "1": "487200",
                                    "2": "180616",
                                    "3": "162825"
                                },
                                {
                                    "0": "2016-02-01 00:00:00",
                                    "1": "474156",
                                    "2": "178989",
                                    "3": "168308"
                                },
                                {
                                    "0": "2016-03-01 00:00:00",
                                    "1": "483909",
                                    "2": "182673",
                                    "3": "172525"
                                },
                                {
                                    "0": "2016-04-01 00:00:00",
                                    "1": "495178",
                                    "2": "176016",
                                    "3": "187000"
                                },
                                {
                                    "0": "2016-05-01 00:00:00",
                                    "1": "489867",
                                    "2": "177161",
                                    "3": "187495"
                                },
                                {
                                    "0": "2016-06-01 00:00:00",
                                    "1": "487636",
                                    "2": "186233",
                                    "3": "189585"
                                },
                                {
                                    "0": "2016-07-01 00:00:00",
                                    "1": "513221",
                                    "2": "183435",
                                    "3": "188155"
                                },
                                {
                                    "0": "2016-08-01 00:00:00",
                                    "1": "510157",
                                    "2": "177764",
                                    "3": "185695"
                                },
                                {
                                    "0": "2016-09-01 00:00:00",
                                    "1": "540615",
                                    "2": "184757",
                                    "3": "182833"
                                },
                                {
                                    "0": "2016-10-01 00:00:00",
                                    "1": "523760",
                                    "2": "182051",
                                    "3": "182986"
                                },
                                {
                                    "0": "2016-11-01 00:00:00",
                                    "1": "539972",
                                    "2": "179598",
                                    "3": "187085"
                                },
                                {
                                    "0": "2016-12-01 00:00:00",
                                    "1": "529372",
                                    "2": "188062",
                                    "3": "189979"
                                },
                                {
                                    "0": "2017-01-01 00:00:00",
                                    "1": "553557",
                                    "2": "186301",
                                    "3": "186029"
                                },
                                {
                                    "0": "2017-02-01 00:00:00",
                                    "1": "568637",
                                    "2": "185720",
                                    "3": "184598"
                                },
                                {
                                    "0": "2017-03-01 00:00:00",
                                    "1": "577674",
                                    "2": "186892",
                                    "3": "184977"
                                },
                                {
                                    "0": "2017-04-01 00:00:00",
                                    "1": "590797",
                                    "2": "180908",
                                    "3": "184930"
                                },
                                {
                                    "0": "2017-05-01 00:00:00",
                                    "1": "582764",
                                    "2": "176970",
                                    "3": "185463"
                                },
                                {
                                    "0": "2017-06-01 00:00:00",
                                    "1": "584258",
                                    "2": "176707",
                                    "3": "187500"
                                },
                                {
                                    "0": "2017-07-01 00:00:00",
                                    "1": "594414",
                                    "2": "173195",
                                    "3": "184246"
                                },
                                {
                                    "0": "2017-08-01 00:00:00",
                                    "1": "596567",
                                    "2": "170524",
                                    "3": "183744"
                                },
                                {
                                    "0": "2017-09-01 00:00:00",
                                    "1": "606334",
                                    "2": "172872",
                                    "3": "183599"
                                },
                                {
                                    "0": "2017-10-01 00:00:00",
                                    "1": "607838",
                                    "2": "169368",
                                    "3": "184047"
                                },
                                {
                                    "0": "2017-11-01 00:00:00",
                                    "1": "627422",
                                    "2": "170948",
                                    "3": "185312"
                                },
                                {
                                    "0": "2017-12-01 00:00:00",
                                    "1": "642798",
                                    "2": "172999",
                                    "3": "182773"
                                },
                                {
                                    "0": "2018-01-01 00:00:00",
                                    "1": "665716",
                                    "2": "168450",
                                    "3": "181763"
                                },
                                {
                                    "0": "2018-02-01 00:00:00",
                                    "1": "645064",
                                    "2": "164657",
                                    "3": "183267"
                                },
                                {
                                    "0": "2018-03-01 00:00:00",
                                    "1": "645235",
                                    "2": "166148",
                                    "3": "180751"
                                },
                                {
                                    "0": "2018-04-01 00:00:00",
                                    "1": "652303",
                                    "2": "155989",
                                    "3": "179410"
                                },
                                {
                                    "0": "2018-05-01 00:00:00",
                                    "1": "668940",
                                    "2": "155344",
                                    "3": "181890"
                                },
                                {
                                    "0": "2018-06-01 00:00:00",
                                    "1": "646931",
                                    "2": "157150",
                                    "3": "179399"
                                },
                                {
                                    "0": "2018-07-01 00:00:00",
                                    "1": "652790",
                                    "2": "148947",
                                    "3": "178299"
                                },
                                {
                                    "0": "2018-08-01 00:00:00",
                                    "1": "652395",
                                    "2": "148873",
                                    "3": "178601"
                                },
                                {
                                    "0": "2018-09-01 00:00:00",
                                    "1": "648126",
                                    "2": "151384",
                                    "3": "188152"
                                },
                                {
                                    "0": "2018-10-01 00:00:00",
                                    "1": "607645",
                                    "2": "148037",
                                    "3": "183432"
                                },
                                {
                                    "0": "2018-11-01 00:00:00",
                                    "1": "592593",
                                    "2": "146452",
                                    "3": "178810"
                                },
                                {
                                    "0": "2018-12-01 00:00:00",
                                    "1": "554285",
                                    "2": "159572",
                                    "3": "190743"
                                },
                                {
                                    "0": "2019-01-01 00:00:00",
                                    "1": "568433",
                                    "2": "151804",
                                    "3": "186050"
                                },
                                {
                                    "0": "2019-02-01 00:00:00",
                                    "1": "581205",
                                    "2": "149686",
                                    "3": "181955"
                                },
                                {
                                    "0": "2019-03-01 00:00:00",
                                    "1": "574013",
                                    "2": "141074",
                                    "3": "180765"
                                },
                                {
                                    "0": "2019-04-01 00:00:00",
                                    "1": "588721",
                                    "2": "143802",
                                    "3": "178523"
                                },
                                {
                                    "0": "2019-05-01 00:00:00",
                                    "1": "568751",
                                    "2": "137489",
                                    "3": "179019"
                                },
                                {
                                    "0": "2019-06-01 00:00:00",
                                    "1": "596304",
                                    "2": "139826",
                                    "3": "179542"
                                },
                                {
                                    "0": "2019-07-01 00:00:00",
                                    "1": "602139",
                                    "2": "138703",
                                    "3": "182613"
                                },
                                {
                                    "0": "2019-08-01 00:00:00",
                                    "1": "564894",
                                    "2": "135567",
                                    "3": "181451"
                                },
                                {
                                    "0": "2019-09-01 00:00:00",
                                    "1": "555910",
                                    "2": "150648",
                                    "3": "187887"
                                },
                                {
                                    "0": "2019-10-01 00:00:00",
                                    "1": "554604",
                                    "2": "145650",
                                    "3": "183966"
                                },
                                {
                                    "0": "2019-11-01 00:00:00",
                                    "1": "563482",
                                    "2": "146935",
                                    "3": "186866"
                                },
                                {
                                    "0": "2019-12-01 00:00:00",
                                    "1": "579221",
                                    "2": "151543",
                                    "3": "186315"
                                },
                                {
                                    "0": "2020-01-01 00:00:00",
                                    "1": "561812",
                                    "2": "152854",
                                    "3": "186847"
                                },
                                {
                                    "0": "2020-02-01 00:00:00",
                                    "1": "545127",
                                    "2": "163001",
                                    "3": "197716"
                                },
                                {
                                    "0": "2020-03-01 00:00:00",
                                    "1": "479291",
                                    "2": "191046",
                                    "3": "226202"
                                },
                                {
                                    "0": "2020-04-01 00:00:00",
                                    "1": "524696",
                                    "2": "180942",
                                    "3": "217187"
                                },
                                {
                                    "0": "2020-05-01 00:00:00",
                                    "1": "552543",
                                    "2": "175794",
                                    "3": "210935"
                                },
                                {
                                    "0": "2020-06-01 00:00:00",
                                    "1": "584676",
                                    "2": "185497",
                                    "3": "229078"
                                },
                                {
                                    "0": "2020-07-01 00:00:00",
                                    "1": "613830",
                                    "2": "181420",
                                    "3": "223768"
                                },
                                {
                                    "0": "2020-08-01 00:00:00",
                                    "1": "645547",
                                    "2": "185113",
                                    "3": "215042"
                                },
                                {
                                    "0": "2020-09-01 00:00:00",
                                    "1": "654324",
                                    "2": "189462",
                                    "3": "211547"
                                },
                                {
                                    "0": "2020-10-01 00:00:00",
                                    "1": "659313",
                                    "2": "193293",
                                    "3": "217739"
                                },
                                {
                                    "0": "2020-11-01 00:00:00",
                                    "1": "722118",
                                    "2": "200723",
                                    "3": "221567"
                                },
                                {
                                    "0": "2020-12-01 00:00:00",
                                    "1": "778037",
                                    "2": "224987",
                                    "3": "227127"
                                },
                                {
                                    "0": "2021-01-01 00:00:00",
                                    "1": "798605",
                                    "2": "224133",
                                    "3": "241220"
                                },
                                {
                                    "0": "2021-02-01 00:00:00",
                                    "1": "813680",
                                    "2": "220840",
                                    "3": "240481"
                                },
                                {
                                    "0": "2021-03-01 00:00:00",
                                    "1": "822551",
                                    "2": "219522",
                                    "3": "237154"
                                },
                                {
                                    "0": "2021-04-01 00:00:00",
                                    "1": "847186",
                                    "2": "218132",
                                    "3": "233145"
                                }
                            ]
                        },
                        "text/html": [
                            "<table>",
                            "<tr><th>Date</th><th>DebitBalances CustomerSecuritiesMarginAccount</th><th>FreeCreditBalances CustomerCashAccount</th><th>FreeCreditBalances CustomerSecuritiesMarginAccount</th></tr>",
                            "<tr><td>1997-01-01 00:00:00</td><td>103337</td><td>68856</td><td>NULL</td></tr>",
                            "<tr><td>1997-02-01 00:00:00</td><td>103886</td><td>67058</td><td>NULL</td></tr>",
                            "<tr><td>1997-03-01 00:00:00</td><td>104835</td><td>69553</td><td>NULL</td></tr>",
                            "<tr><td>1997-04-01 00:00:00</td><td>102842</td><td>64825</td><td>NULL</td></tr>",
                            "<tr><td>1997-05-01 00:00:00</td><td>111097</td><td>66879</td><td>NULL</td></tr>",
                            "<tr><td>1997-06-01 00:00:00</td><td>118843</td><td>72422</td><td>NULL</td></tr>",
                            "<tr><td>1997-07-01 00:00:00</td><td>121090</td><td>73714</td><td>NULL</td></tr>",
                            "<tr><td>1997-08-01 00:00:00</td><td>124404</td><td>71211</td><td>NULL</td></tr>",
                            "<tr><td>1997-09-01 00:00:00</td><td>131962</td><td>73087</td><td>NULL</td></tr>",
                            "<tr><td>1997-10-01 00:00:00</td><td>134491</td><td>80287</td><td>NULL</td></tr>",
                            "<tr><td>1997-11-01 00:00:00</td><td>132741</td><td>77259</td><td>NULL</td></tr>",
                            "<tr><td>1997-12-01 00:00:00</td><td>131560</td><td>88590</td><td>NULL</td></tr>",
                            "<tr><td>1998-01-01 00:00:00</td><td>132912</td><td>83362</td><td>NULL</td></tr>",
                            "<tr><td>1998-02-01 00:00:00</td><td>141328</td><td>81932</td><td>NULL</td></tr>",
                            "<tr><td>1998-03-01 00:00:00</td><td>146536</td><td>85580</td><td>NULL</td></tr>",
                            "<tr><td>1998-04-01 00:00:00</td><td>146589</td><td>85771</td><td>NULL</td></tr>",
                            "<tr><td>1998-05-01 00:00:00</td><td>150293</td><td>80174</td><td>NULL</td></tr>",
                            "<tr><td>1998-06-01 00:00:00</td><td>154357</td><td>87891</td><td>NULL</td></tr>",
                            "<tr><td>1998-07-01 00:00:00</td><td>160980</td><td>92687</td><td>NULL</td></tr>",
                            "<tr><td>1998-08-01 00:00:00</td><td>155879</td><td>100093</td><td>NULL</td></tr>",
                            "<tr><td>1998-09-01 00:00:00</td><td>144541</td><td>103879</td><td>NULL</td></tr>",
                            "<tr><td>1998-10-01 00:00:00</td><td>138399</td><td>108179</td><td>NULL</td></tr>",
                            "<tr><td>1998-11-01 00:00:00</td><td>148697</td><td>108032</td><td>NULL</td></tr>",
                            "<tr><td>1998-12-01 00:00:00</td><td>148674</td><td>111507</td><td>NULL</td></tr>",
                            "<tr><td>1999-01-01 00:00:00</td><td>162322</td><td>107200</td><td>NULL</td></tr>",
                            "<tr><td>1999-02-01 00:00:00</td><td>162909</td><td>109523</td><td>NULL</td></tr>",
                            "<tr><td>1999-03-01 00:00:00</td><td>166212</td><td>109941</td><td>NULL</td></tr>",
                            "<tr><td>1999-04-01 00:00:00</td><td>184329</td><td>112290</td><td>NULL</td></tr>",
                            "<tr><td>1999-05-01 00:00:00</td><td>189950</td><td>114271</td><td>NULL</td></tr>",
                            "<tr><td>1999-06-01 00:00:00</td><td>187695</td><td>116982</td><td>NULL</td></tr>",
                            "<tr><td>1999-07-01 00:00:00</td><td>189503</td><td>115017</td><td>NULL</td></tr>",
                            "<tr><td>1999-08-01 00:00:00</td><td>187616</td><td>117149</td><td>NULL</td></tr>",
                            "<tr><td>1999-09-01 00:00:00</td><td>189741</td><td>121207</td><td>NULL</td></tr>",
                            "<tr><td>1999-10-01 00:00:00</td><td>194259</td><td>123457</td><td>NULL</td></tr>",
                            "<tr><td>1999-11-01 00:00:00</td><td>218304</td><td>131786</td><td>NULL</td></tr>",
                            "<tr><td>1999-12-01 00:00:00</td><td>241967</td><td>146582</td><td>NULL</td></tr>",
                            "<tr><td>2000-01-01 00:00:00</td><td>260409</td><td>148567</td><td>NULL</td></tr>",
                            "<tr><td>2000-02-01 00:00:00</td><td>284206</td><td>153540</td><td>NULL</td></tr>",
                            "<tr><td>2000-03-01 00:00:00</td><td>299933</td><td>168002</td><td>NULL</td></tr>",
                            "<tr><td>2000-04-01 00:00:00</td><td>268716</td><td>156868</td><td>NULL</td></tr>",
                            "<tr><td>2000-05-01 00:00:00</td><td>256862</td><td>153843</td><td>NULL</td></tr>",
                            "<tr><td>2000-06-01 00:00:00</td><td>264471</td><td>153050</td><td>NULL</td></tr>",
                            "<tr><td>2000-07-01 00:00:00</td><td>263729</td><td>163050</td><td>NULL</td></tr>",
                            "<tr><td>2000-08-01 00:00:00</td><td>265166</td><td>156775</td><td>NULL</td></tr>",
                            "<tr><td>2000-09-01 00:00:00</td><td>270208</td><td>160964</td><td>NULL</td></tr>",
                            "<tr><td>2000-10-01 00:00:00</td><td>250965</td><td>172738</td><td>NULL</td></tr>",
                            "<tr><td>2000-11-01 00:00:00</td><td>237913</td><td>186459</td><td>NULL</td></tr>",
                            "<tr><td>2000-12-01 00:00:00</td><td>210385</td><td>198179</td><td>NULL</td></tr>",
                            "<tr><td>2001-01-01 00:00:00</td><td>208687</td><td>187225</td><td>NULL</td></tr>",
                            "<tr><td>2001-02-01 00:00:00</td><td>198887</td><td>193266</td><td>NULL</td></tr>",
                            "<tr><td>2001-03-01 00:00:00</td><td>174797</td><td>198581</td><td>NULL</td></tr>",
                            "<tr><td>2001-04-01 00:00:00</td><td>176096</td><td>191145</td><td>NULL</td></tr>",
                            "<tr><td>2001-05-01 00:00:00</td><td>183041</td><td>183493</td><td>NULL</td></tr>",
                            "<tr><td>2001-06-01 00:00:00</td><td>179585</td><td>187602</td><td>NULL</td></tr>",
                            "<tr><td>2001-07-01 00:00:00</td><td>173680</td><td>185100</td><td>NULL</td></tr>",
                            "<tr><td>2001-08-01 00:00:00</td><td>169316</td><td>191219</td><td>NULL</td></tr>",
                            "<tr><td>2001-09-01 00:00:00</td><td>157931</td><td>211281</td><td>NULL</td></tr>",
                            "<tr><td>2001-10-01 00:00:00</td><td>152367</td><td>187012</td><td>NULL</td></tr>",
                            "<tr><td>2001-11-01 00:00:00</td><td>159440</td><td>188441</td><td>NULL</td></tr>",
                            "<tr><td>2001-12-01 00:00:00</td><td>160473</td><td>197424</td><td>NULL</td></tr>",
                            "<tr><td>2002-01-01 00:00:00</td><td>160906</td><td>189841</td><td>NULL</td></tr>",
                            "<tr><td>2002-02-01 00:00:00</td><td>154931</td><td>186919</td><td>NULL</td></tr>",
                            "<tr><td>2002-03-01 00:00:00</td><td>160089</td><td>180578</td><td>NULL</td></tr>",
                            "<tr><td>2002-04-01 00:00:00</td><td>159072</td><td>175730</td><td>NULL</td></tr>",
                            "<tr><td>2002-05-01 00:00:00</td><td>157802</td><td>173395</td><td>NULL</td></tr>",
                            "<tr><td>2002-06-01 00:00:00</td><td>153972</td><td>178744</td><td>NULL</td></tr>",
                            "<tr><td>2002-07-01 00:00:00</td><td>143905</td><td>183326</td><td>NULL</td></tr>",
                            "<tr><td>2002-08-01 00:00:00</td><td>139146</td><td>174995</td><td>NULL</td></tr>",
                            "<tr><td>2002-09-01 00:00:00</td><td>136107</td><td>180997</td><td>NULL</td></tr>",
                            "<tr><td>2002-10-01 00:00:00</td><td>138647</td><td>181069</td><td>NULL</td></tr>",
                            "<tr><td>2002-11-01 00:00:00</td><td>139472</td><td>176062</td><td>NULL</td></tr>",
                            "<tr><td>2002-12-01 00:00:00</td><td>139451</td><td>184715</td><td>NULL</td></tr>",
                            "<tr><td>2003-01-01 00:00:00</td><td>141391</td><td>179528</td><td>NULL</td></tr>",
                            "<tr><td>2003-02-01 00:00:00</td><td>140516</td><td>179925</td><td>NULL</td></tr>",
                            "<tr><td>2003-03-01 00:00:00</td><td>144267</td><td>176955</td><td>NULL</td></tr>",
                            "<tr><td>2003-04-01 00:00:00</td><td>143237</td><td>168756</td><td>NULL</td></tr>",
                            "<tr><td>2003-05-01 00:00:00</td><td>153725</td><td>178946</td><td>NULL</td></tr>",
                            "<tr><td>2003-06-01 00:00:00</td><td>168281</td><td>190026</td><td>NULL</td></tr>",
                            "<tr><td>2003-07-01 00:00:00</td><td>174427</td><td>199973</td><td>NULL</td></tr>",
                            "<tr><td>2003-08-01 00:00:00</td><td>167200</td><td>188112</td><td>NULL</td></tr>",
                            "<tr><td>2003-09-01 00:00:00</td><td>171194</td><td>189826</td><td>NULL</td></tr>",
                            "<tr><td>2003-10-01 00:00:00</td><td>175428</td><td>191554</td><td>NULL</td></tr>",
                            "<tr><td>2003-11-01 00:00:00</td><td>182587</td><td>184899</td><td>NULL</td></tr>",
                            "<tr><td>2003-12-01 00:00:00</td><td>181459</td><td>199297</td><td>NULL</td></tr>",
                            "<tr><td>2004-01-01 00:00:00</td><td>189429</td><td>198628</td><td>NULL</td></tr>",
                            "<tr><td>2004-02-01 00:00:00</td><td>190448</td><td>200323</td><td>NULL</td></tr>",
                            "<tr><td>2004-03-01 00:00:00</td><td>191451</td><td>203953</td><td>NULL</td></tr>",
                            "<tr><td>2004-04-01 00:00:00</td><td>198778</td><td>217992</td><td>NULL</td></tr>",
                            "<tr><td>2004-05-01 00:00:00</td><td>193843</td><td>219640</td><td>NULL</td></tr>",
                            "<tr><td>2004-06-01 00:00:00</td><td>193993</td><td>220781</td><td>NULL</td></tr>",
                            "<tr><td>2004-07-01 00:00:00</td><td>187844</td><td>220196</td><td>NULL</td></tr>",
                            "<tr><td>2004-08-01 00:00:00</td><td>187828</td><td>217945</td><td>NULL</td></tr>",
                            "<tr><td>2004-09-01 00:00:00</td><td>193668</td><td>220860</td><td>NULL</td></tr>",
                            "<tr><td>2004-10-01 00:00:00</td><td>197999</td><td>218090</td><td>NULL</td></tr>",
                            "<tr><td>2004-11-01 00:00:00</td><td>211012</td><td>223928</td><td>NULL</td></tr>",
                            "<tr><td>2004-12-01 00:00:00</td><td>217573</td><td>238192</td><td>NULL</td></tr>",
                            "<tr><td>2005-01-01 00:00:00</td><td>220122</td><td>230624</td><td>NULL</td></tr>",
                            "<tr><td>2005-02-01 00:00:00</td><td>223155</td><td>224392</td><td>NULL</td></tr>",
                            "<tr><td>2005-03-01 00:00:00</td><td>226876</td><td>234533</td><td>NULL</td></tr>",
                            "<tr><td>2005-04-01 00:00:00</td><td>217447</td><td>223839</td><td>NULL</td></tr>",
                            "<tr><td>2005-05-01 00:00:00</td><td>219404</td><td>224933</td><td>NULL</td></tr>",
                            "<tr><td>2005-06-01 00:00:00</td><td>224153</td><td>234352</td><td>NULL</td></tr>",
                            "<tr><td>2005-07-01 00:00:00</td><td>233585</td><td>224242</td><td>NULL</td></tr>",
                            "<tr><td>2005-08-01 00:00:00</td><td>231400</td><td>225410</td><td>NULL</td></tr>",
                            "<tr><td>2005-09-01 00:00:00</td><td>244669</td><td>238929</td><td>NULL</td></tr>",
                            "<tr><td>2005-10-01 00:00:00</td><td>239868</td><td>243174</td><td>NULL</td></tr>",
                            "<tr><td>2005-11-01 00:00:00</td><td>242904</td><td>241695</td><td>NULL</td></tr>",
                            "<tr><td>2005-12-01 00:00:00</td><td>244098</td><td>263205</td><td>NULL</td></tr>",
                            "<tr><td>2006-01-01 00:00:00</td><td>255795</td><td>255819</td><td>NULL</td></tr>",
                            "<tr><td>2006-02-01 00:00:00</td><td>249609</td><td>257573</td><td>NULL</td></tr>",
                            "<tr><td>2006-03-01 00:00:00</td><td>259370</td><td>258928</td><td>NULL</td></tr>",
                            "<tr><td>2006-04-01 00:00:00</td><td>265164</td><td>259342</td><td>NULL</td></tr>",
                            "<tr><td>2006-05-01 00:00:00</td><td>255608</td><td>264307</td><td>NULL</td></tr>",
                            "<tr><td>2006-06-01 00:00:00</td><td>251495</td><td>280275</td><td>NULL</td></tr>",
                            "<tr><td>2006-07-01 00:00:00</td><td>256016</td><td>269376</td><td>NULL</td></tr>",
                            "<tr><td>2006-08-01 00:00:00</td><td>249368</td><td>269423</td><td>NULL</td></tr>",
                            "<tr><td>2006-09-01 00:00:00</td><td>261769</td><td>268612</td><td>NULL</td></tr>",
                            "<tr><td>2006-10-01 00:00:00</td><td>267710</td><td>267462</td><td>NULL</td></tr>",
                            "<tr><td>2006-11-01 00:00:00</td><td>294899</td><td>290910</td><td>NULL</td></tr>",
                            "<tr><td>2006-12-01 00:00:00</td><td>303288</td><td>299023</td><td>NULL</td></tr>",
                            "<tr><td>2007-01-01 00:00:00</td><td>311506</td><td>292521</td><td>NULL</td></tr>",
                            "<tr><td>2007-02-01 00:00:00</td><td>321171</td><td>300072</td><td>NULL</td></tr>",
                            "<tr><td>2007-03-01 00:00:00</td><td>317737</td><td>305479</td><td>NULL</td></tr>",
                            "<tr><td>2007-04-01 00:00:00</td><td>342084</td><td>314744</td><td>NULL</td></tr>",
                            "<tr><td>2007-05-01 00:00:00</td><td>382312</td><td>334359</td><td>NULL</td></tr>",
                            "<tr><td>2007-06-01 00:00:00</td><td>408444</td><td>347617</td><td>NULL</td></tr>",
                            "<tr><td>2007-07-01 00:00:00</td><td>416403</td><td>380971</td><td>NULL</td></tr>",
                            "<tr><td>2007-08-01 00:00:00</td><td>362475</td><td>381550</td><td>NULL</td></tr>",
                            "<tr><td>2007-09-01 00:00:00</td><td>359104</td><td>377364</td><td>NULL</td></tr>",
                            "<tr><td>2007-10-01 00:00:00</td><td>376979</td><td>392543</td><td>NULL</td></tr>",
                            "<tr><td>2007-11-01 00:00:00</td><td>379593</td><td>426721</td><td>NULL</td></tr>",
                            "<tr><td>2007-12-01 00:00:00</td><td>355292</td><td>456353</td><td>NULL</td></tr>",
                            "<tr><td>2008-01-01 00:00:00</td><td>365592</td><td>474496</td><td>NULL</td></tr>",
                            "<tr><td>2008-02-01 00:00:00</td><td>377088</td><td>454785</td><td>NULL</td></tr>",
                            "<tr><td>2008-03-01 00:00:00</td><td>349419</td><td>488831</td><td>NULL</td></tr>",
                            "<tr><td>2008-04-01 00:00:00</td><td>332303</td><td>472371</td><td>NULL</td></tr>",
                            "<tr><td>2008-05-01 00:00:00</td><td>341610</td><td>470188</td><td>NULL</td></tr>",
                            "<tr><td>2008-06-01 00:00:00</td><td>346892</td><td>499634</td><td>NULL</td></tr>",
                            "<tr><td>2008-07-01 00:00:00</td><td>343297</td><td>519226</td><td>NULL</td></tr>",
                            "<tr><td>2008-08-01 00:00:00</td><td>324814</td><td>530042</td><td>NULL</td></tr>",
                            "<tr><td>2008-09-01 00:00:00</td><td>345745</td><td>381702</td><td>NULL</td></tr>",
                            "<tr><td>2008-10-01 00:00:00</td><td>277568</td><td>383429</td><td>NULL</td></tr>",
                            "<tr><td>2008-11-01 00:00:00</td><td>227334</td><td>364232</td><td>NULL</td></tr>",
                            "<tr><td>2008-12-01 00:00:00</td><td>210185</td><td>345713</td><td>NULL</td></tr>",
                            "<tr><td>2009-01-01 00:00:00</td><td>205007</td><td>316763</td><td>NULL</td></tr>",
                            "<tr><td>2009-02-01 00:00:00</td><td>199655</td><td>310503</td><td>NULL</td></tr>",
                            "<tr><td>2009-03-01 00:00:00</td><td>203967</td><td>291927</td><td>NULL</td></tr>",
                            "<tr><td>2009-04-01 00:00:00</td><td>208010</td><td>285658</td><td>NULL</td></tr>",
                            "<tr><td>2009-05-01 00:00:00</td><td>214401</td><td>275313</td><td>NULL</td></tr>",
                            "<tr><td>2009-06-01 00:00:00</td><td>217140</td><td>283874</td><td>NULL</td></tr>",
                            "<tr><td>2009-07-01 00:00:00</td><td>228734</td><td>277082</td><td>NULL</td></tr>",
                            "<tr><td>2009-08-01 00:00:00</td><td>236251</td><td>281989</td><td>NULL</td></tr>",
                            "<tr><td>2009-09-01 00:00:00</td><td>254107</td><td>287196</td><td>NULL</td></tr>",
                            "<tr><td>2009-10-01 00:00:00</td><td>265404</td><td>299858</td><td>NULL</td></tr>",
                            "<tr><td>2009-11-01 00:00:00</td><td>250988</td><td>284071</td><td>NULL</td></tr>",
                            "<tr><td>2009-12-01 00:00:00</td><td>262399</td><td>281043</td><td>NULL</td></tr>",
                            "<tr><td>2010-01-01 00:00:00</td><td>266455</td><td>281035</td><td>NULL</td></tr>",
                            "<tr><td>2010-02-01 00:00:00</td><td>263657</td><td>106131</td><td>164624</td></tr>",
                            "<tr><td>2010-03-01 00:00:00</td><td>277798</td><td>108908</td><td>162169</td></tr>",
                            "<tr><td>2010-04-01 00:00:00</td><td>295550</td><td>111217</td><td>160630</td></tr>",
                            "<tr><td>2010-05-01 00:00:00</td><td>268566</td><td>114051</td><td>166706</td></tr>",
                            "<tr><td>2010-06-01 00:00:00</td><td>263202</td><td>114265</td><td>172908</td></tr>",
                            "<tr><td>2010-07-01 00:00:00</td><td>267468</td><td>106290</td><td>172179</td></tr>",
                            "<tr><td>2010-08-01 00:00:00</td><td>268371</td><td>106870</td><td>174209</td></tr>",
                            "<tr><td>2010-09-01 00:00:00</td><td>288540</td><td>114321</td><td>173544</td></tr>",
                            "<tr><td>2010-10-01 00:00:00</td><td>303428</td><td>114784</td><td>176588</td></tr>",
                            "<tr><td>2010-11-01 00:00:00</td><td>309340</td><td>119305</td><td>176805</td></tr>",
                            "<tr><td>2010-12-01 00:00:00</td><td>313678</td><td>126098</td><td>182426</td></tr>",
                            "<tr><td>2011-01-01 00:00:00</td><td>326868</td><td>130894</td><td>173545</td></tr>",
                            "<tr><td>2011-02-01 00:00:00</td><td>348979</td><td>135760</td><td>179102</td></tr>",
                            "<tr><td>2011-03-01 00:00:00</td><td>355413</td><td>133386</td><td>170139</td></tr>",
                            "<tr><td>2011-04-01 00:00:00</td><td>360883</td><td>133131</td><td>175399</td></tr>",
                            "<tr><td>2011-05-01 00:00:00</td><td>355736</td><td>133727</td><td>175508</td></tr>",
                            "<tr><td>2011-06-01 00:00:00</td><td>345273</td><td>139575</td><td>183547</td></tr>",
                            "<tr><td>2011-07-01 00:00:00</td><td>344572</td><td>138316</td><td>182957</td></tr>",
                            "<tr><td>2011-08-01 00:00:00</td><td>308866</td><td>135508</td><td>193533</td></tr>",
                            "<tr><td>2011-09-01 00:00:00</td><td>298277</td><td>141806</td><td>204307</td></tr>",
                            "<tr><td>2011-10-01 00:00:00</td><td>317028</td><td>133639</td><td>188141</td></tr>",
                            "<tr><td>2011-11-01 00:00:00</td><td>303930</td><td>132934</td><td>188259</td></tr>",
                            "<tr><td>2011-12-01 00:00:00</td><td>301616</td><td>142533</td><td>189143</td></tr>",
                            "<tr><td>2012-01-01 00:00:00</td><td>309844</td><td>137309</td><td>174889</td></tr>",
                            "<tr><td>2012-02-01 00:00:00</td><td>323021</td><td>139609</td><td>177639</td></tr>",
                            "<tr><td>2012-03-01 00:00:00</td><td>330815</td><td>142297</td><td>182814</td></tr>",
                            "<tr><td>2012-04-01 00:00:00</td><td>335154</td><td>138909</td><td>182021</td></tr>",
                            "<tr><td>2012-05-01 00:00:00</td><td>315147</td><td>139111</td><td>187938</td></tr>",
                            "<tr><td>2012-06-01 00:00:00</td><td>320952</td><td>138937</td><td>192149</td></tr>",
                            "<tr><td>2012-07-01 00:00:00</td><td>313525</td><td>124330</td><td>194741</td></tr>",
                            "<tr><td>2012-08-01 00:00:00</td><td>320395</td><td>124276</td><td>196786</td></tr>",
                            "<tr><td>2012-09-01 00:00:00</td><td>339159</td><td>129389</td><td>205176</td></tr>",
                            "<tr><td>2012-10-01 00:00:00</td><td>342325</td><td>124800</td><td>200406</td></tr>",
                            "<tr><td>2012-11-01 00:00:00</td><td>351441</td><td>135650</td><td>202425</td></tr>",
                            "<tr><td>2012-12-01 00:00:00</td><td>355009</td><td>162206</td><td>211576</td></tr>",
                            "<tr><td>2013-01-01 00:00:00</td><td>388123</td><td>142856</td><td>199709</td></tr>",
                            "<tr><td>2013-02-01 00:00:00</td><td>390351</td><td>142123</td><td>208682</td></tr>",
                            "<tr><td>2013-03-01 00:00:00</td><td>403933</td><td>144530</td><td>197887</td></tr>",
                            "<tr><td>2013-04-01 00:00:00</td><td>408677</td><td>140706</td><td>191719</td></tr>",
                            "<tr><td>2013-05-01 00:00:00</td><td>401606</td><td>146765</td><td>199756</td></tr>",
                            "<tr><td>2013-06-01 00:00:00</td><td>407681</td><td>150093</td><td>200308</td></tr>",
                            "<tr><td>2013-07-01 00:00:00</td><td>412101</td><td>144495</td><td>194790</td></tr>",
                            "<tr><td>2013-08-01 00:00:00</td><td>414442</td><td>143808</td><td>195181</td></tr>",
                            "<tr><td>2013-09-01 00:00:00</td><td>432852</td><td>149895</td><td>197780</td></tr>",
                            "<tr><td>2013-10-01 00:00:00</td><td>445022</td><td>151494</td><td>199889</td></tr>",
                            "<tr><td>2013-11-01 00:00:00</td><td>456378</td><td>150214</td><td>199153</td></tr>",
                            "<tr><td>2013-12-01 00:00:00</td><td>478502</td><td>157000</td><td>197521</td></tr>",
                            "<tr><td>2014-01-01 00:00:00</td><td>487549</td><td>151878</td><td>195863</td></tr>",
                            "<tr><td>2014-02-01 00:00:00</td><td>502093</td><td>154049</td><td>190312</td></tr>",
                            "<tr><td>2014-03-01 00:00:00</td><td>487932</td><td>156083</td><td>194461</td></tr>",
                            "<tr><td>2014-04-01 00:00:00</td><td>475195</td><td>149801</td><td>194679</td></tr>",
                            "<tr><td>2014-05-01 00:00:00</td><td>475362</td><td>150474</td><td>188551</td></tr>",
                            "<tr><td>2014-06-01 00:00:00</td><td>502270</td><td>160293</td><td>184723</td></tr>",
                            "<tr><td>2014-07-01 00:00:00</td><td>498671</td><td>155931</td><td>177981</td></tr>",
                            "<tr><td>2014-08-01 00:00:00</td><td>501000</td><td>155245</td><td>180820</td></tr>",
                            "<tr><td>2014-09-01 00:00:00</td><td>503901</td><td>161621</td><td>183243</td></tr>",
                            "<tr><td>2014-10-01 00:00:00</td><td>492888</td><td>158624</td><td>185193</td></tr>",
                            "<tr><td>2014-11-01 00:00:00</td><td>496341</td><td>158420</td><td>184227</td></tr>",
                            "<tr><td>2014-12-01 00:00:00</td><td>495756</td><td>169295</td><td>181223</td></tr>",
                            "<tr><td>2015-01-01 00:00:00</td><td>485872</td><td>163599</td><td>178259</td></tr>",
                            "<tr><td>2015-02-01 00:00:00</td><td>504923</td><td>168371</td><td>170930</td></tr>",
                            "<tr><td>2015-03-01 00:00:00</td><td>518055</td><td>171625</td><td>170074</td></tr>",
                            "<tr><td>2015-04-01 00:00:00</td><td>549964</td><td>168430</td><td>167073</td></tr>",
                            "<tr><td>2015-05-01 00:00:00</td><td>541671</td><td>166334</td><td>169076</td></tr>",
                            "<tr><td>2015-06-01 00:00:00</td><td>547957</td><td>170614</td><td>168441</td></tr>",
                            "<tr><td>2015-07-01 00:00:00</td><td>530744</td><td>168659</td><td>169132</td></tr>",
                            "<tr><td>2015-08-01 00:00:00</td><td>515960</td><td>175647</td><td>168692</td></tr>",
                            "<tr><td>2015-09-01 00:00:00</td><td>497279</td><td>173760</td><td>167132</td></tr>",
                            "<tr><td>2015-10-01 00:00:00</td><td>513941</td><td>174437</td><td>163210</td></tr>",
                            "<tr><td>2015-11-01 00:00:00</td><td>515410</td><td>174607</td><td>165584</td></tr>",
                            "<tr><td>2015-12-01 00:00:00</td><td>503444</td><td>181812</td><td>159677</td></tr>",
                            "<tr><td>2016-01-01 00:00:00</td><td>487200</td><td>180616</td><td>162825</td></tr>",
                            "<tr><td>2016-02-01 00:00:00</td><td>474156</td><td>178989</td><td>168308</td></tr>",
                            "<tr><td>2016-03-01 00:00:00</td><td>483909</td><td>182673</td><td>172525</td></tr>",
                            "<tr><td>2016-04-01 00:00:00</td><td>495178</td><td>176016</td><td>187000</td></tr>",
                            "<tr><td>2016-05-01 00:00:00</td><td>489867</td><td>177161</td><td>187495</td></tr>",
                            "<tr><td>2016-06-01 00:00:00</td><td>487636</td><td>186233</td><td>189585</td></tr>",
                            "<tr><td>2016-07-01 00:00:00</td><td>513221</td><td>183435</td><td>188155</td></tr>",
                            "<tr><td>2016-08-01 00:00:00</td><td>510157</td><td>177764</td><td>185695</td></tr>",
                            "<tr><td>2016-09-01 00:00:00</td><td>540615</td><td>184757</td><td>182833</td></tr>",
                            "<tr><td>2016-10-01 00:00:00</td><td>523760</td><td>182051</td><td>182986</td></tr>",
                            "<tr><td>2016-11-01 00:00:00</td><td>539972</td><td>179598</td><td>187085</td></tr>",
                            "<tr><td>2016-12-01 00:00:00</td><td>529372</td><td>188062</td><td>189979</td></tr>",
                            "<tr><td>2017-01-01 00:00:00</td><td>553557</td><td>186301</td><td>186029</td></tr>",
                            "<tr><td>2017-02-01 00:00:00</td><td>568637</td><td>185720</td><td>184598</td></tr>",
                            "<tr><td>2017-03-01 00:00:00</td><td>577674</td><td>186892</td><td>184977</td></tr>",
                            "<tr><td>2017-04-01 00:00:00</td><td>590797</td><td>180908</td><td>184930</td></tr>",
                            "<tr><td>2017-05-01 00:00:00</td><td>582764</td><td>176970</td><td>185463</td></tr>",
                            "<tr><td>2017-06-01 00:00:00</td><td>584258</td><td>176707</td><td>187500</td></tr>",
                            "<tr><td>2017-07-01 00:00:00</td><td>594414</td><td>173195</td><td>184246</td></tr>",
                            "<tr><td>2017-08-01 00:00:00</td><td>596567</td><td>170524</td><td>183744</td></tr>",
                            "<tr><td>2017-09-01 00:00:00</td><td>606334</td><td>172872</td><td>183599</td></tr>",
                            "<tr><td>2017-10-01 00:00:00</td><td>607838</td><td>169368</td><td>184047</td></tr>",
                            "<tr><td>2017-11-01 00:00:00</td><td>627422</td><td>170948</td><td>185312</td></tr>",
                            "<tr><td>2017-12-01 00:00:00</td><td>642798</td><td>172999</td><td>182773</td></tr>",
                            "<tr><td>2018-01-01 00:00:00</td><td>665716</td><td>168450</td><td>181763</td></tr>",
                            "<tr><td>2018-02-01 00:00:00</td><td>645064</td><td>164657</td><td>183267</td></tr>",
                            "<tr><td>2018-03-01 00:00:00</td><td>645235</td><td>166148</td><td>180751</td></tr>",
                            "<tr><td>2018-04-01 00:00:00</td><td>652303</td><td>155989</td><td>179410</td></tr>",
                            "<tr><td>2018-05-01 00:00:00</td><td>668940</td><td>155344</td><td>181890</td></tr>",
                            "<tr><td>2018-06-01 00:00:00</td><td>646931</td><td>157150</td><td>179399</td></tr>",
                            "<tr><td>2018-07-01 00:00:00</td><td>652790</td><td>148947</td><td>178299</td></tr>",
                            "<tr><td>2018-08-01 00:00:00</td><td>652395</td><td>148873</td><td>178601</td></tr>",
                            "<tr><td>2018-09-01 00:00:00</td><td>648126</td><td>151384</td><td>188152</td></tr>",
                            "<tr><td>2018-10-01 00:00:00</td><td>607645</td><td>148037</td><td>183432</td></tr>",
                            "<tr><td>2018-11-01 00:00:00</td><td>592593</td><td>146452</td><td>178810</td></tr>",
                            "<tr><td>2018-12-01 00:00:00</td><td>554285</td><td>159572</td><td>190743</td></tr>",
                            "<tr><td>2019-01-01 00:00:00</td><td>568433</td><td>151804</td><td>186050</td></tr>",
                            "<tr><td>2019-02-01 00:00:00</td><td>581205</td><td>149686</td><td>181955</td></tr>",
                            "<tr><td>2019-03-01 00:00:00</td><td>574013</td><td>141074</td><td>180765</td></tr>",
                            "<tr><td>2019-04-01 00:00:00</td><td>588721</td><td>143802</td><td>178523</td></tr>",
                            "<tr><td>2019-05-01 00:00:00</td><td>568751</td><td>137489</td><td>179019</td></tr>",
                            "<tr><td>2019-06-01 00:00:00</td><td>596304</td><td>139826</td><td>179542</td></tr>",
                            "<tr><td>2019-07-01 00:00:00</td><td>602139</td><td>138703</td><td>182613</td></tr>",
                            "<tr><td>2019-08-01 00:00:00</td><td>564894</td><td>135567</td><td>181451</td></tr>",
                            "<tr><td>2019-09-01 00:00:00</td><td>555910</td><td>150648</td><td>187887</td></tr>",
                            "<tr><td>2019-10-01 00:00:00</td><td>554604</td><td>145650</td><td>183966</td></tr>",
                            "<tr><td>2019-11-01 00:00:00</td><td>563482</td><td>146935</td><td>186866</td></tr>",
                            "<tr><td>2019-12-01 00:00:00</td><td>579221</td><td>151543</td><td>186315</td></tr>",
                            "<tr><td>2020-01-01 00:00:00</td><td>561812</td><td>152854</td><td>186847</td></tr>",
                            "<tr><td>2020-02-01 00:00:00</td><td>545127</td><td>163001</td><td>197716</td></tr>",
                            "<tr><td>2020-03-01 00:00:00</td><td>479291</td><td>191046</td><td>226202</td></tr>",
                            "<tr><td>2020-04-01 00:00:00</td><td>524696</td><td>180942</td><td>217187</td></tr>",
                            "<tr><td>2020-05-01 00:00:00</td><td>552543</td><td>175794</td><td>210935</td></tr>",
                            "<tr><td>2020-06-01 00:00:00</td><td>584676</td><td>185497</td><td>229078</td></tr>",
                            "<tr><td>2020-07-01 00:00:00</td><td>613830</td><td>181420</td><td>223768</td></tr>",
                            "<tr><td>2020-08-01 00:00:00</td><td>645547</td><td>185113</td><td>215042</td></tr>",
                            "<tr><td>2020-09-01 00:00:00</td><td>654324</td><td>189462</td><td>211547</td></tr>",
                            "<tr><td>2020-10-01 00:00:00</td><td>659313</td><td>193293</td><td>217739</td></tr>",
                            "<tr><td>2020-11-01 00:00:00</td><td>722118</td><td>200723</td><td>221567</td></tr>",
                            "<tr><td>2020-12-01 00:00:00</td><td>778037</td><td>224987</td><td>227127</td></tr>",
                            "<tr><td>2021-01-01 00:00:00</td><td>798605</td><td>224133</td><td>241220</td></tr>",
                            "<tr><td>2021-02-01 00:00:00</td><td>813680</td><td>220840</td><td>240481</td></tr>",
                            "<tr><td>2021-03-01 00:00:00</td><td>822551</td><td>219522</td><td>237154</td></tr>",
                            "<tr><td>2021-04-01 00:00:00</td><td>847186</td><td>218132</td><td>233145</td></tr>",
                            "</table>"
                        ]
                    }
                }
            ],
            "execution_count": 3
        }
    ]
}